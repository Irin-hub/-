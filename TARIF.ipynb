{
 "cells": [
  {
   "cell_type": "markdown",
   "metadata": {},
   "source": [
    "\n",
    "# Определение перспективного тарифа для телеком компании\n",
    "\n",
    "Описание проекта\n",
    "Вы аналитик компании «Мегалайн» — федерального оператора сотовой связи. Клиентам предлагают два тарифных плана: «Смарт» и «Ультра». Чтобы скорректировать рекламный бюджет, коммерческий департамент хочет понять, какой тариф приносит больше денег.\n",
    "Вам предстоит сделать предварительный анализ тарифов на небольшой выборке клиентов. В вашем распоряжении данные 500 пользователей «Мегалайна»: кто они, откуда, каким тарифом пользуются, сколько звонков и сообщений каждый отправил за 2018 год. Нужно проанализировать поведение клиентов и сделать вывод — какой тариф лучше.  \n",
    "***Описание тарифов***  \n",
    "\n",
    "***«Смарт»***\n",
    "1.\tЕжемесячная плата: 550 рублей\n",
    "2.\tВключено 500 минут разговора, 50 сообщений и 15 Гб интернет-трафика\n",
    "3.\tСтоимость услуг сверх тарифного пакета:\n",
    "•\tминута разговора: 3 рубля\n",
    "•\tсообщение: 3 рубля\n",
    "•\t1 Гб интернет-трафика: 200 рублей  \n",
    "\n",
    "***«Ультра»***\n",
    "1.\tЕжемесячная плата: 1950 рублей\n",
    "2.\tВключено 3000 минут разговора, 1000 сообщений и 30 Гб интернет-трафика\n",
    "3.\tСтоимость услуг сверх тарифного пакета:\n",
    "•\tминута разговора: 1 рубль\n",
    "•\tсообщение: 1 рубль\n",
    "•\t1 Гб интернет-трафика: 150 рублей  \n",
    "\n",
    "**ПЛАН РАБОТЫ:**\n",
    "1. [Открытие данных](#1)\n",
    "2. [Подготовка данных](#2)\n",
    "3. [Анализ данных](#3)\n",
    "4. [Проверка гипотез](#4)\n",
    "3. [Общий вывод](#5)\n"
   ]
  },
  {
   "cell_type": "markdown",
   "metadata": {},
   "source": [
    "<a id=\"1\"></a>\n",
    "## Шаг 1. Откройте файл с данными и изучите общую информацию. "
   ]
  },
  {
   "cell_type": "code",
   "execution_count": 1,
   "metadata": {},
   "outputs": [],
   "source": [
    "#Библиотеки\n",
    "import pandas as pd\n",
    "import numpy as np\n",
    "import matplotlib.pyplot as plt\n",
    "from datetime import datetime\n",
    "from scipy import stats as st\n",
    "import seaborn as sns\n"
   ]
  },
  {
   "cell_type": "code",
   "execution_count": 2,
   "metadata": {},
   "outputs": [],
   "source": [
    "# прочитаем все файлы\n",
    "calls = pd.read_csv('/datasets/calls.csv')\n",
    "internet = pd.read_csv('/datasets/internet.csv', index_col='Unnamed: 0')\n",
    "messages = pd.read_csv('/datasets/messages.csv')\n",
    "tariffs = pd.read_csv('/datasets/tariffs.csv')\n",
    "users = pd.read_csv('/datasets/users.csv')"
   ]
  },
  {
   "cell_type": "markdown",
   "metadata": {},
   "source": [
    "### Файл \"Клиенты\""
   ]
  },
  {
   "cell_type": "markdown",
   "metadata": {},
   "source": [
    "Начнем с таблицы о пользователях. Известно, что у нас 500 пользователей. Ну посмотрим кто они, откуда и тд"
   ]
  },
  {
   "cell_type": "code",
   "execution_count": 3,
   "metadata": {},
   "outputs": [
    {
     "data": {
      "text/html": [
       "<div>\n",
       "<style scoped>\n",
       "    .dataframe tbody tr th:only-of-type {\n",
       "        vertical-align: middle;\n",
       "    }\n",
       "\n",
       "    .dataframe tbody tr th {\n",
       "        vertical-align: top;\n",
       "    }\n",
       "\n",
       "    .dataframe thead th {\n",
       "        text-align: right;\n",
       "    }\n",
       "</style>\n",
       "<table border=\"1\" class=\"dataframe\">\n",
       "  <thead>\n",
       "    <tr style=\"text-align: right;\">\n",
       "      <th></th>\n",
       "      <th>user_id</th>\n",
       "      <th>age</th>\n",
       "      <th>churn_date</th>\n",
       "      <th>city</th>\n",
       "      <th>first_name</th>\n",
       "      <th>last_name</th>\n",
       "      <th>reg_date</th>\n",
       "      <th>tariff</th>\n",
       "    </tr>\n",
       "  </thead>\n",
       "  <tbody>\n",
       "    <tr>\n",
       "      <td>0</td>\n",
       "      <td>1000</td>\n",
       "      <td>52</td>\n",
       "      <td>NaN</td>\n",
       "      <td>Краснодар</td>\n",
       "      <td>Рафаил</td>\n",
       "      <td>Верещагин</td>\n",
       "      <td>2018-05-25</td>\n",
       "      <td>ultra</td>\n",
       "    </tr>\n",
       "    <tr>\n",
       "      <td>1</td>\n",
       "      <td>1001</td>\n",
       "      <td>41</td>\n",
       "      <td>NaN</td>\n",
       "      <td>Москва</td>\n",
       "      <td>Иван</td>\n",
       "      <td>Ежов</td>\n",
       "      <td>2018-11-01</td>\n",
       "      <td>smart</td>\n",
       "    </tr>\n",
       "    <tr>\n",
       "      <td>2</td>\n",
       "      <td>1002</td>\n",
       "      <td>59</td>\n",
       "      <td>NaN</td>\n",
       "      <td>Стерлитамак</td>\n",
       "      <td>Евгений</td>\n",
       "      <td>Абрамович</td>\n",
       "      <td>2018-06-17</td>\n",
       "      <td>smart</td>\n",
       "    </tr>\n",
       "    <tr>\n",
       "      <td>3</td>\n",
       "      <td>1003</td>\n",
       "      <td>23</td>\n",
       "      <td>NaN</td>\n",
       "      <td>Москва</td>\n",
       "      <td>Белла</td>\n",
       "      <td>Белякова</td>\n",
       "      <td>2018-08-17</td>\n",
       "      <td>ultra</td>\n",
       "    </tr>\n",
       "    <tr>\n",
       "      <td>4</td>\n",
       "      <td>1004</td>\n",
       "      <td>68</td>\n",
       "      <td>NaN</td>\n",
       "      <td>Новокузнецк</td>\n",
       "      <td>Татьяна</td>\n",
       "      <td>Авдеенко</td>\n",
       "      <td>2018-05-14</td>\n",
       "      <td>ultra</td>\n",
       "    </tr>\n",
       "  </tbody>\n",
       "</table>\n",
       "</div>"
      ],
      "text/plain": [
       "   user_id  age churn_date         city first_name  last_name    reg_date  \\\n",
       "0     1000   52        NaN    Краснодар     Рафаил  Верещагин  2018-05-25   \n",
       "1     1001   41        NaN       Москва       Иван       Ежов  2018-11-01   \n",
       "2     1002   59        NaN  Стерлитамак    Евгений  Абрамович  2018-06-17   \n",
       "3     1003   23        NaN       Москва      Белла   Белякова  2018-08-17   \n",
       "4     1004   68        NaN  Новокузнецк    Татьяна   Авдеенко  2018-05-14   \n",
       "\n",
       "  tariff  \n",
       "0  ultra  \n",
       "1  smart  \n",
       "2  smart  \n",
       "3  ultra  \n",
       "4  ultra  "
      ]
     },
     "execution_count": 3,
     "metadata": {},
     "output_type": "execute_result"
    }
   ],
   "source": [
    "# построим первые 5 строк\n",
    "users.head()"
   ]
  },
  {
   "cell_type": "code",
   "execution_count": 4,
   "metadata": {},
   "outputs": [
    {
     "name": "stdout",
     "output_type": "stream",
     "text": [
      "<class 'pandas.core.frame.DataFrame'>\n",
      "RangeIndex: 500 entries, 0 to 499\n",
      "Data columns (total 8 columns):\n",
      "user_id       500 non-null int64\n",
      "age           500 non-null int64\n",
      "churn_date    38 non-null object\n",
      "city          500 non-null object\n",
      "first_name    500 non-null object\n",
      "last_name     500 non-null object\n",
      "reg_date      500 non-null object\n",
      "tariff        500 non-null object\n",
      "dtypes: int64(2), object(6)\n",
      "memory usage: 31.4+ KB\n"
     ]
    }
   ],
   "source": [
    "users.info()"
   ]
  },
  {
   "cell_type": "code",
   "execution_count": 5,
   "metadata": {},
   "outputs": [
    {
     "data": {
      "text/plain": [
       "user_id         0\n",
       "age             0\n",
       "churn_date    462\n",
       "city            0\n",
       "first_name      0\n",
       "last_name       0\n",
       "reg_date        0\n",
       "tariff          0\n",
       "dtype: int64"
      ]
     },
     "execution_count": 5,
     "metadata": {},
     "output_type": "execute_result"
    }
   ],
   "source": [
    "#уже из info видно, что пропуски только в столбце \"churn_date\"\n",
    "# посмотрим еще раз информацию про пропуски\n",
    "users.isnull().sum()"
   ]
  },
  {
   "cell_type": "code",
   "execution_count": 6,
   "metadata": {},
   "outputs": [
    {
     "data": {
      "text/html": [
       "<div>\n",
       "<style scoped>\n",
       "    .dataframe tbody tr th:only-of-type {\n",
       "        vertical-align: middle;\n",
       "    }\n",
       "\n",
       "    .dataframe tbody tr th {\n",
       "        vertical-align: top;\n",
       "    }\n",
       "\n",
       "    .dataframe thead th {\n",
       "        text-align: right;\n",
       "    }\n",
       "</style>\n",
       "<table border=\"1\" class=\"dataframe\">\n",
       "  <thead>\n",
       "    <tr style=\"text-align: right;\">\n",
       "      <th></th>\n",
       "      <th>user_id</th>\n",
       "      <th>age</th>\n",
       "    </tr>\n",
       "  </thead>\n",
       "  <tbody>\n",
       "    <tr>\n",
       "      <td>count</td>\n",
       "      <td>500.000000</td>\n",
       "      <td>500.00000</td>\n",
       "    </tr>\n",
       "    <tr>\n",
       "      <td>mean</td>\n",
       "      <td>1249.500000</td>\n",
       "      <td>46.58800</td>\n",
       "    </tr>\n",
       "    <tr>\n",
       "      <td>std</td>\n",
       "      <td>144.481833</td>\n",
       "      <td>16.66763</td>\n",
       "    </tr>\n",
       "    <tr>\n",
       "      <td>min</td>\n",
       "      <td>1000.000000</td>\n",
       "      <td>18.00000</td>\n",
       "    </tr>\n",
       "    <tr>\n",
       "      <td>25%</td>\n",
       "      <td>1124.750000</td>\n",
       "      <td>32.00000</td>\n",
       "    </tr>\n",
       "    <tr>\n",
       "      <td>50%</td>\n",
       "      <td>1249.500000</td>\n",
       "      <td>46.00000</td>\n",
       "    </tr>\n",
       "    <tr>\n",
       "      <td>75%</td>\n",
       "      <td>1374.250000</td>\n",
       "      <td>62.00000</td>\n",
       "    </tr>\n",
       "    <tr>\n",
       "      <td>max</td>\n",
       "      <td>1499.000000</td>\n",
       "      <td>75.00000</td>\n",
       "    </tr>\n",
       "  </tbody>\n",
       "</table>\n",
       "</div>"
      ],
      "text/plain": [
       "           user_id        age\n",
       "count   500.000000  500.00000\n",
       "mean   1249.500000   46.58800\n",
       "std     144.481833   16.66763\n",
       "min    1000.000000   18.00000\n",
       "25%    1124.750000   32.00000\n",
       "50%    1249.500000   46.00000\n",
       "75%    1374.250000   62.00000\n",
       "max    1499.000000   75.00000"
      ]
     },
     "execution_count": 6,
     "metadata": {},
     "output_type": "execute_result"
    }
   ],
   "source": [
    "#рассмотрим характеристики, дающие представление о выборке\n",
    "users.describe()"
   ]
  },
  {
   "cell_type": "code",
   "execution_count": 7,
   "metadata": {},
   "outputs": [
    {
     "name": "stdout",
     "output_type": "stream",
     "text": [
      "smart    351\n",
      "ultra    149\n",
      "Name: tariff, dtype: int64 \n",
      " smart    70.2\n",
      "ultra    29.8\n",
      "Name: tariff, dtype: float64\n"
     ]
    }
   ],
   "source": [
    "#Посмотрим кол-во уникальных значений по тарифу\n",
    "print(users['tariff'].value_counts(), '\\n', (users['tariff'].value_counts()/500)*100)\n"
   ]
  },
  {
   "cell_type": "code",
   "execution_count": 8,
   "metadata": {},
   "outputs": [
    {
     "data": {
      "text/plain": [
       "0"
      ]
     },
     "execution_count": 8,
     "metadata": {},
     "output_type": "execute_result"
    }
   ],
   "source": [
    "# есть ли дубликаты\n",
    "users.duplicated().sum()"
   ]
  },
  {
   "cell_type": "markdown",
   "metadata": {},
   "source": [
    "#### Вывод:  \n",
    "Что мы узнали о 500 пользователях:  \n",
    "1. Возраст от 18 до 75 лет.  \n",
    "2. 38 пользователей прекратили пользование тарифом.  \n",
    "3. Из разных городов, преимущество за Москвой и СПб.  \n",
    "4. Пользуются тарифами: SMART -70,2%, ULTRA -29,8%\n",
    "\n",
    "Данные:  \n",
    "1. Есть 462 пропуска в столбце \"churn_date\".  \n",
    "2. Столбец \"reg_date\" имеет тип object. Необходимо заменить тип данных со строчного на datetime."
   ]
  },
  {
   "cell_type": "markdown",
   "metadata": {},
   "source": [
    "### Файл \"Тарифы\""
   ]
  },
  {
   "cell_type": "code",
   "execution_count": 9,
   "metadata": {},
   "outputs": [
    {
     "data": {
      "text/html": [
       "<div>\n",
       "<style scoped>\n",
       "    .dataframe tbody tr th:only-of-type {\n",
       "        vertical-align: middle;\n",
       "    }\n",
       "\n",
       "    .dataframe tbody tr th {\n",
       "        vertical-align: top;\n",
       "    }\n",
       "\n",
       "    .dataframe thead th {\n",
       "        text-align: right;\n",
       "    }\n",
       "</style>\n",
       "<table border=\"1\" class=\"dataframe\">\n",
       "  <thead>\n",
       "    <tr style=\"text-align: right;\">\n",
       "      <th></th>\n",
       "      <th>messages_included</th>\n",
       "      <th>mb_per_month_included</th>\n",
       "      <th>minutes_included</th>\n",
       "      <th>rub_monthly_fee</th>\n",
       "      <th>rub_per_gb</th>\n",
       "      <th>rub_per_message</th>\n",
       "      <th>rub_per_minute</th>\n",
       "      <th>tariff_name</th>\n",
       "    </tr>\n",
       "  </thead>\n",
       "  <tbody>\n",
       "    <tr>\n",
       "      <td>0</td>\n",
       "      <td>50</td>\n",
       "      <td>15360</td>\n",
       "      <td>500</td>\n",
       "      <td>550</td>\n",
       "      <td>200</td>\n",
       "      <td>3</td>\n",
       "      <td>3</td>\n",
       "      <td>smart</td>\n",
       "    </tr>\n",
       "    <tr>\n",
       "      <td>1</td>\n",
       "      <td>1000</td>\n",
       "      <td>30720</td>\n",
       "      <td>3000</td>\n",
       "      <td>1950</td>\n",
       "      <td>150</td>\n",
       "      <td>1</td>\n",
       "      <td>1</td>\n",
       "      <td>ultra</td>\n",
       "    </tr>\n",
       "  </tbody>\n",
       "</table>\n",
       "</div>"
      ],
      "text/plain": [
       "   messages_included  mb_per_month_included  minutes_included  \\\n",
       "0                 50                  15360               500   \n",
       "1               1000                  30720              3000   \n",
       "\n",
       "   rub_monthly_fee  rub_per_gb  rub_per_message  rub_per_minute tariff_name  \n",
       "0              550         200                3               3       smart  \n",
       "1             1950         150                1               1       ultra  "
      ]
     },
     "execution_count": 9,
     "metadata": {},
     "output_type": "execute_result"
    }
   ],
   "source": [
    "tariffs.head()"
   ]
  },
  {
   "cell_type": "code",
   "execution_count": 10,
   "metadata": {},
   "outputs": [
    {
     "name": "stdout",
     "output_type": "stream",
     "text": [
      "<class 'pandas.core.frame.DataFrame'>\n",
      "RangeIndex: 2 entries, 0 to 1\n",
      "Data columns (total 8 columns):\n",
      "messages_included        2 non-null int64\n",
      "mb_per_month_included    2 non-null int64\n",
      "minutes_included         2 non-null int64\n",
      "rub_monthly_fee          2 non-null int64\n",
      "rub_per_gb               2 non-null int64\n",
      "rub_per_message          2 non-null int64\n",
      "rub_per_minute           2 non-null int64\n",
      "tariff_name              2 non-null object\n",
      "dtypes: int64(7), object(1)\n",
      "memory usage: 256.0+ bytes\n"
     ]
    }
   ],
   "source": [
    "tariffs.info()"
   ]
  },
  {
   "cell_type": "code",
   "execution_count": 11,
   "metadata": {},
   "outputs": [
    {
     "data": {
      "text/plain": [
       "0"
      ]
     },
     "execution_count": 11,
     "metadata": {},
     "output_type": "execute_result"
    }
   ],
   "source": [
    "tariffs.duplicated().sum()"
   ]
  },
  {
   "cell_type": "markdown",
   "metadata": {},
   "source": [
    "#### Вывод:\n",
    "\n",
    "Всё соответствует описанию тарифов. Идеальная таблица с верным типом данных и без пропусков."
   ]
  },
  {
   "cell_type": "markdown",
   "metadata": {},
   "source": [
    "### Файл \"Звонки\""
   ]
  },
  {
   "cell_type": "code",
   "execution_count": 12,
   "metadata": {},
   "outputs": [
    {
     "data": {
      "text/html": [
       "<div>\n",
       "<style scoped>\n",
       "    .dataframe tbody tr th:only-of-type {\n",
       "        vertical-align: middle;\n",
       "    }\n",
       "\n",
       "    .dataframe tbody tr th {\n",
       "        vertical-align: top;\n",
       "    }\n",
       "\n",
       "    .dataframe thead th {\n",
       "        text-align: right;\n",
       "    }\n",
       "</style>\n",
       "<table border=\"1\" class=\"dataframe\">\n",
       "  <thead>\n",
       "    <tr style=\"text-align: right;\">\n",
       "      <th></th>\n",
       "      <th>id</th>\n",
       "      <th>call_date</th>\n",
       "      <th>duration</th>\n",
       "      <th>user_id</th>\n",
       "    </tr>\n",
       "  </thead>\n",
       "  <tbody>\n",
       "    <tr>\n",
       "      <td>0</td>\n",
       "      <td>1000_0</td>\n",
       "      <td>2018-07-25</td>\n",
       "      <td>0.00</td>\n",
       "      <td>1000</td>\n",
       "    </tr>\n",
       "    <tr>\n",
       "      <td>1</td>\n",
       "      <td>1000_1</td>\n",
       "      <td>2018-08-17</td>\n",
       "      <td>0.00</td>\n",
       "      <td>1000</td>\n",
       "    </tr>\n",
       "    <tr>\n",
       "      <td>2</td>\n",
       "      <td>1000_2</td>\n",
       "      <td>2018-06-11</td>\n",
       "      <td>2.85</td>\n",
       "      <td>1000</td>\n",
       "    </tr>\n",
       "    <tr>\n",
       "      <td>3</td>\n",
       "      <td>1000_3</td>\n",
       "      <td>2018-09-21</td>\n",
       "      <td>13.80</td>\n",
       "      <td>1000</td>\n",
       "    </tr>\n",
       "    <tr>\n",
       "      <td>4</td>\n",
       "      <td>1000_4</td>\n",
       "      <td>2018-12-15</td>\n",
       "      <td>5.18</td>\n",
       "      <td>1000</td>\n",
       "    </tr>\n",
       "  </tbody>\n",
       "</table>\n",
       "</div>"
      ],
      "text/plain": [
       "       id   call_date  duration  user_id\n",
       "0  1000_0  2018-07-25      0.00     1000\n",
       "1  1000_1  2018-08-17      0.00     1000\n",
       "2  1000_2  2018-06-11      2.85     1000\n",
       "3  1000_3  2018-09-21     13.80     1000\n",
       "4  1000_4  2018-12-15      5.18     1000"
      ]
     },
     "execution_count": 12,
     "metadata": {},
     "output_type": "execute_result"
    }
   ],
   "source": [
    "calls.head()"
   ]
  },
  {
   "cell_type": "code",
   "execution_count": 13,
   "metadata": {},
   "outputs": [
    {
     "name": "stdout",
     "output_type": "stream",
     "text": [
      "<class 'pandas.core.frame.DataFrame'>\n",
      "RangeIndex: 202607 entries, 0 to 202606\n",
      "Data columns (total 4 columns):\n",
      "id           202607 non-null object\n",
      "call_date    202607 non-null object\n",
      "duration     202607 non-null float64\n",
      "user_id      202607 non-null int64\n",
      "dtypes: float64(1), int64(1), object(2)\n",
      "memory usage: 6.2+ MB\n"
     ]
    }
   ],
   "source": [
    "calls.info()"
   ]
  },
  {
   "cell_type": "code",
   "execution_count": 14,
   "metadata": {},
   "outputs": [
    {
     "data": {
      "text/html": [
       "<div>\n",
       "<style scoped>\n",
       "    .dataframe tbody tr th:only-of-type {\n",
       "        vertical-align: middle;\n",
       "    }\n",
       "\n",
       "    .dataframe tbody tr th {\n",
       "        vertical-align: top;\n",
       "    }\n",
       "\n",
       "    .dataframe thead th {\n",
       "        text-align: right;\n",
       "    }\n",
       "</style>\n",
       "<table border=\"1\" class=\"dataframe\">\n",
       "  <thead>\n",
       "    <tr style=\"text-align: right;\">\n",
       "      <th></th>\n",
       "      <th>duration</th>\n",
       "      <th>user_id</th>\n",
       "    </tr>\n",
       "  </thead>\n",
       "  <tbody>\n",
       "    <tr>\n",
       "      <td>count</td>\n",
       "      <td>202607.000000</td>\n",
       "      <td>202607.000000</td>\n",
       "    </tr>\n",
       "    <tr>\n",
       "      <td>mean</td>\n",
       "      <td>6.755887</td>\n",
       "      <td>1253.940619</td>\n",
       "    </tr>\n",
       "    <tr>\n",
       "      <td>std</td>\n",
       "      <td>5.843365</td>\n",
       "      <td>144.722751</td>\n",
       "    </tr>\n",
       "    <tr>\n",
       "      <td>min</td>\n",
       "      <td>0.000000</td>\n",
       "      <td>1000.000000</td>\n",
       "    </tr>\n",
       "    <tr>\n",
       "      <td>25%</td>\n",
       "      <td>1.300000</td>\n",
       "      <td>1126.000000</td>\n",
       "    </tr>\n",
       "    <tr>\n",
       "      <td>50%</td>\n",
       "      <td>6.000000</td>\n",
       "      <td>1260.000000</td>\n",
       "    </tr>\n",
       "    <tr>\n",
       "      <td>75%</td>\n",
       "      <td>10.700000</td>\n",
       "      <td>1379.000000</td>\n",
       "    </tr>\n",
       "    <tr>\n",
       "      <td>max</td>\n",
       "      <td>38.000000</td>\n",
       "      <td>1499.000000</td>\n",
       "    </tr>\n",
       "  </tbody>\n",
       "</table>\n",
       "</div>"
      ],
      "text/plain": [
       "            duration        user_id\n",
       "count  202607.000000  202607.000000\n",
       "mean        6.755887    1253.940619\n",
       "std         5.843365     144.722751\n",
       "min         0.000000    1000.000000\n",
       "25%         1.300000    1126.000000\n",
       "50%         6.000000    1260.000000\n",
       "75%        10.700000    1379.000000\n",
       "max        38.000000    1499.000000"
      ]
     },
     "execution_count": 14,
     "metadata": {},
     "output_type": "execute_result"
    }
   ],
   "source": [
    "calls.describe()"
   ]
  },
  {
   "cell_type": "code",
   "execution_count": 15,
   "metadata": {},
   "outputs": [
    {
     "data": {
      "text/plain": [
       "0"
      ]
     },
     "execution_count": 15,
     "metadata": {},
     "output_type": "execute_result"
    }
   ],
   "source": [
    "calls.duplicated().sum()"
   ]
  },
  {
   "cell_type": "code",
   "execution_count": 16,
   "metadata": {},
   "outputs": [
    {
     "data": {
      "text/plain": [
       "Text(0, 0.5, 'user_id')"
      ]
     },
     "execution_count": 16,
     "metadata": {},
     "output_type": "execute_result"
    },
    {
     "data": {
      "image/png": "[encoded data removed]",
      "text/plain": [
       "<Figure size 432x288 with 1 Axes>"
      ]
     },
     "metadata": {
      "needs_background": "light"
     },
     "output_type": "display_data"
    }
   ],
   "source": [
    "#построим график(гистограмму)\n",
    "_=calls['duration'].hist(bins=50, range=(0, 40))\n",
    "plt.title('Распределение количества пользователей в зависимости от длительности разговора')\n",
    "plt.xlabel('duration')\n",
    "plt.ylabel('user_id')"
   ]
  },
  {
   "cell_type": "code",
   "execution_count": 17,
   "metadata": {},
   "outputs": [
    {
     "data": {
      "text/plain": [
       "39613"
      ]
     },
     "execution_count": 17,
     "metadata": {},
     "output_type": "execute_result"
    }
   ],
   "source": [
    "#посмотрим сколько значений=0\n",
    "len(calls[calls.duration == 0])"
   ]
  },
  {
   "cell_type": "code",
   "execution_count": 18,
   "metadata": {},
   "outputs": [
    {
     "data": {
      "text/plain": [
       "47927"
      ]
     },
     "execution_count": 18,
     "metadata": {},
     "output_type": "execute_result"
    }
   ],
   "source": [
    "#сколько значений меньше 1\n",
    "len(calls[calls.duration < 1])"
   ]
  },
  {
   "cell_type": "markdown",
   "metadata": {},
   "source": [
    "#### Вывод:  \n",
    "1. Количество звонков - 202607  \n",
    "2. Необходимо поменять типы данных столбцов:  \n",
    "        call_date - на datetime\n",
    "        duration - на int.  \n",
    "3. Очень много звонков с длительностью 0 секунд. Это могут быть пропущенные звонки, как подсказано в описании проекта. 25% всей выборки имеют длительность в районе 1 секунды.  \n",
    "    Тут можно предположить, что данные некорректны.\n",
    "\n",
    "        "
   ]
  },
  {
   "cell_type": "markdown",
   "metadata": {},
   "source": [
    "### Файл \"Сообщения\""
   ]
  },
  {
   "cell_type": "code",
   "execution_count": 19,
   "metadata": {},
   "outputs": [
    {
     "data": {
      "text/html": [
       "<div>\n",
       "<style scoped>\n",
       "    .dataframe tbody tr th:only-of-type {\n",
       "        vertical-align: middle;\n",
       "    }\n",
       "\n",
       "    .dataframe tbody tr th {\n",
       "        vertical-align: top;\n",
       "    }\n",
       "\n",
       "    .dataframe thead th {\n",
       "        text-align: right;\n",
       "    }\n",
       "</style>\n",
       "<table border=\"1\" class=\"dataframe\">\n",
       "  <thead>\n",
       "    <tr style=\"text-align: right;\">\n",
       "      <th></th>\n",
       "      <th>id</th>\n",
       "      <th>message_date</th>\n",
       "      <th>user_id</th>\n",
       "    </tr>\n",
       "  </thead>\n",
       "  <tbody>\n",
       "    <tr>\n",
       "      <td>0</td>\n",
       "      <td>1000_0</td>\n",
       "      <td>2018-06-27</td>\n",
       "      <td>1000</td>\n",
       "    </tr>\n",
       "    <tr>\n",
       "      <td>1</td>\n",
       "      <td>1000_1</td>\n",
       "      <td>2018-10-08</td>\n",
       "      <td>1000</td>\n",
       "    </tr>\n",
       "    <tr>\n",
       "      <td>2</td>\n",
       "      <td>1000_2</td>\n",
       "      <td>2018-08-04</td>\n",
       "      <td>1000</td>\n",
       "    </tr>\n",
       "    <tr>\n",
       "      <td>3</td>\n",
       "      <td>1000_3</td>\n",
       "      <td>2018-06-16</td>\n",
       "      <td>1000</td>\n",
       "    </tr>\n",
       "    <tr>\n",
       "      <td>4</td>\n",
       "      <td>1000_4</td>\n",
       "      <td>2018-12-05</td>\n",
       "      <td>1000</td>\n",
       "    </tr>\n",
       "  </tbody>\n",
       "</table>\n",
       "</div>"
      ],
      "text/plain": [
       "       id message_date  user_id\n",
       "0  1000_0   2018-06-27     1000\n",
       "1  1000_1   2018-10-08     1000\n",
       "2  1000_2   2018-08-04     1000\n",
       "3  1000_3   2018-06-16     1000\n",
       "4  1000_4   2018-12-05     1000"
      ]
     },
     "execution_count": 19,
     "metadata": {},
     "output_type": "execute_result"
    }
   ],
   "source": [
    "messages.head()"
   ]
  },
  {
   "cell_type": "code",
   "execution_count": 20,
   "metadata": {},
   "outputs": [
    {
     "name": "stdout",
     "output_type": "stream",
     "text": [
      "<class 'pandas.core.frame.DataFrame'>\n",
      "RangeIndex: 123036 entries, 0 to 123035\n",
      "Data columns (total 3 columns):\n",
      "id              123036 non-null object\n",
      "message_date    123036 non-null object\n",
      "user_id         123036 non-null int64\n",
      "dtypes: int64(1), object(2)\n",
      "memory usage: 2.8+ MB\n"
     ]
    }
   ],
   "source": [
    "messages.info()"
   ]
  },
  {
   "cell_type": "code",
   "execution_count": 21,
   "metadata": {},
   "outputs": [
    {
     "data": {
      "text/html": [
       "<div>\n",
       "<style scoped>\n",
       "    .dataframe tbody tr th:only-of-type {\n",
       "        vertical-align: middle;\n",
       "    }\n",
       "\n",
       "    .dataframe tbody tr th {\n",
       "        vertical-align: top;\n",
       "    }\n",
       "\n",
       "    .dataframe thead th {\n",
       "        text-align: right;\n",
       "    }\n",
       "</style>\n",
       "<table border=\"1\" class=\"dataframe\">\n",
       "  <thead>\n",
       "    <tr style=\"text-align: right;\">\n",
       "      <th></th>\n",
       "      <th>user_id</th>\n",
       "    </tr>\n",
       "  </thead>\n",
       "  <tbody>\n",
       "    <tr>\n",
       "      <td>count</td>\n",
       "      <td>123036.000000</td>\n",
       "    </tr>\n",
       "    <tr>\n",
       "      <td>mean</td>\n",
       "      <td>1256.989410</td>\n",
       "    </tr>\n",
       "    <tr>\n",
       "      <td>std</td>\n",
       "      <td>143.523967</td>\n",
       "    </tr>\n",
       "    <tr>\n",
       "      <td>min</td>\n",
       "      <td>1000.000000</td>\n",
       "    </tr>\n",
       "    <tr>\n",
       "      <td>25%</td>\n",
       "      <td>1134.000000</td>\n",
       "    </tr>\n",
       "    <tr>\n",
       "      <td>50%</td>\n",
       "      <td>1271.000000</td>\n",
       "    </tr>\n",
       "    <tr>\n",
       "      <td>75%</td>\n",
       "      <td>1381.000000</td>\n",
       "    </tr>\n",
       "    <tr>\n",
       "      <td>max</td>\n",
       "      <td>1499.000000</td>\n",
       "    </tr>\n",
       "  </tbody>\n",
       "</table>\n",
       "</div>"
      ],
      "text/plain": [
       "             user_id\n",
       "count  123036.000000\n",
       "mean     1256.989410\n",
       "std       143.523967\n",
       "min      1000.000000\n",
       "25%      1134.000000\n",
       "50%      1271.000000\n",
       "75%      1381.000000\n",
       "max      1499.000000"
      ]
     },
     "execution_count": 21,
     "metadata": {},
     "output_type": "execute_result"
    }
   ],
   "source": [
    "messages.describe()"
   ]
  },
  {
   "cell_type": "code",
   "execution_count": 22,
   "metadata": {},
   "outputs": [
    {
     "data": {
      "text/plain": [
       "0"
      ]
     },
     "execution_count": 22,
     "metadata": {},
     "output_type": "execute_result"
    }
   ],
   "source": [
    "messages.duplicated().sum()"
   ]
  },
  {
   "cell_type": "markdown",
   "metadata": {},
   "source": [
    "#### Вывод:  \n",
    "Хороший файл: пропусков, дубликатов нет.  \n",
    "Только нужно поменять тип данных в столбце 'message_date'."
   ]
  },
  {
   "cell_type": "markdown",
   "metadata": {},
   "source": [
    "### Файл \"Интернет\""
   ]
  },
  {
   "cell_type": "code",
   "execution_count": 23,
   "metadata": {},
   "outputs": [
    {
     "data": {
      "text/html": [
       "<div>\n",
       "<style scoped>\n",
       "    .dataframe tbody tr th:only-of-type {\n",
       "        vertical-align: middle;\n",
       "    }\n",
       "\n",
       "    .dataframe tbody tr th {\n",
       "        vertical-align: top;\n",
       "    }\n",
       "\n",
       "    .dataframe thead th {\n",
       "        text-align: right;\n",
       "    }\n",
       "</style>\n",
       "<table border=\"1\" class=\"dataframe\">\n",
       "  <thead>\n",
       "    <tr style=\"text-align: right;\">\n",
       "      <th></th>\n",
       "      <th>id</th>\n",
       "      <th>mb_used</th>\n",
       "      <th>session_date</th>\n",
       "      <th>user_id</th>\n",
       "    </tr>\n",
       "  </thead>\n",
       "  <tbody>\n",
       "    <tr>\n",
       "      <td>0</td>\n",
       "      <td>1000_0</td>\n",
       "      <td>112.95</td>\n",
       "      <td>2018-11-25</td>\n",
       "      <td>1000</td>\n",
       "    </tr>\n",
       "    <tr>\n",
       "      <td>1</td>\n",
       "      <td>1000_1</td>\n",
       "      <td>1052.81</td>\n",
       "      <td>2018-09-07</td>\n",
       "      <td>1000</td>\n",
       "    </tr>\n",
       "    <tr>\n",
       "      <td>2</td>\n",
       "      <td>1000_2</td>\n",
       "      <td>1197.26</td>\n",
       "      <td>2018-06-25</td>\n",
       "      <td>1000</td>\n",
       "    </tr>\n",
       "    <tr>\n",
       "      <td>3</td>\n",
       "      <td>1000_3</td>\n",
       "      <td>550.27</td>\n",
       "      <td>2018-08-22</td>\n",
       "      <td>1000</td>\n",
       "    </tr>\n",
       "    <tr>\n",
       "      <td>4</td>\n",
       "      <td>1000_4</td>\n",
       "      <td>302.56</td>\n",
       "      <td>2018-09-24</td>\n",
       "      <td>1000</td>\n",
       "    </tr>\n",
       "  </tbody>\n",
       "</table>\n",
       "</div>"
      ],
      "text/plain": [
       "       id  mb_used session_date  user_id\n",
       "0  1000_0   112.95   2018-11-25     1000\n",
       "1  1000_1  1052.81   2018-09-07     1000\n",
       "2  1000_2  1197.26   2018-06-25     1000\n",
       "3  1000_3   550.27   2018-08-22     1000\n",
       "4  1000_4   302.56   2018-09-24     1000"
      ]
     },
     "execution_count": 23,
     "metadata": {},
     "output_type": "execute_result"
    }
   ],
   "source": [
    " internet.head()"
   ]
  },
  {
   "cell_type": "code",
   "execution_count": 24,
   "metadata": {},
   "outputs": [
    {
     "name": "stdout",
     "output_type": "stream",
     "text": [
      "<class 'pandas.core.frame.DataFrame'>\n",
      "Int64Index: 149396 entries, 0 to 149395\n",
      "Data columns (total 4 columns):\n",
      "id              149396 non-null object\n",
      "mb_used         149396 non-null float64\n",
      "session_date    149396 non-null object\n",
      "user_id         149396 non-null int64\n",
      "dtypes: float64(1), int64(1), object(2)\n",
      "memory usage: 5.7+ MB\n"
     ]
    }
   ],
   "source": [
    "internet.info()"
   ]
  },
  {
   "cell_type": "code",
   "execution_count": 25,
   "metadata": {},
   "outputs": [
    {
     "data": {
      "text/plain": [
       "0"
      ]
     },
     "execution_count": 25,
     "metadata": {},
     "output_type": "execute_result"
    }
   ],
   "source": [
    "\n",
    "internet.duplicated().sum()"
   ]
  },
  {
   "cell_type": "code",
   "execution_count": 26,
   "metadata": {},
   "outputs": [
    {
     "data": {
      "text/html": [
       "<div>\n",
       "<style scoped>\n",
       "    .dataframe tbody tr th:only-of-type {\n",
       "        vertical-align: middle;\n",
       "    }\n",
       "\n",
       "    .dataframe tbody tr th {\n",
       "        vertical-align: top;\n",
       "    }\n",
       "\n",
       "    .dataframe thead th {\n",
       "        text-align: right;\n",
       "    }\n",
       "</style>\n",
       "<table border=\"1\" class=\"dataframe\">\n",
       "  <thead>\n",
       "    <tr style=\"text-align: right;\">\n",
       "      <th></th>\n",
       "      <th>mb_used</th>\n",
       "      <th>user_id</th>\n",
       "    </tr>\n",
       "  </thead>\n",
       "  <tbody>\n",
       "    <tr>\n",
       "      <td>count</td>\n",
       "      <td>149396.000000</td>\n",
       "      <td>149396.000000</td>\n",
       "    </tr>\n",
       "    <tr>\n",
       "      <td>mean</td>\n",
       "      <td>370.192426</td>\n",
       "      <td>1252.099842</td>\n",
       "    </tr>\n",
       "    <tr>\n",
       "      <td>std</td>\n",
       "      <td>278.300951</td>\n",
       "      <td>144.050823</td>\n",
       "    </tr>\n",
       "    <tr>\n",
       "      <td>min</td>\n",
       "      <td>0.000000</td>\n",
       "      <td>1000.000000</td>\n",
       "    </tr>\n",
       "    <tr>\n",
       "      <td>25%</td>\n",
       "      <td>138.187500</td>\n",
       "      <td>1130.000000</td>\n",
       "    </tr>\n",
       "    <tr>\n",
       "      <td>50%</td>\n",
       "      <td>348.015000</td>\n",
       "      <td>1251.000000</td>\n",
       "    </tr>\n",
       "    <tr>\n",
       "      <td>75%</td>\n",
       "      <td>559.552500</td>\n",
       "      <td>1380.000000</td>\n",
       "    </tr>\n",
       "    <tr>\n",
       "      <td>max</td>\n",
       "      <td>1724.830000</td>\n",
       "      <td>1499.000000</td>\n",
       "    </tr>\n",
       "  </tbody>\n",
       "</table>\n",
       "</div>"
      ],
      "text/plain": [
       "             mb_used        user_id\n",
       "count  149396.000000  149396.000000\n",
       "mean      370.192426    1252.099842\n",
       "std       278.300951     144.050823\n",
       "min         0.000000    1000.000000\n",
       "25%       138.187500    1130.000000\n",
       "50%       348.015000    1251.000000\n",
       "75%       559.552500    1380.000000\n",
       "max      1724.830000    1499.000000"
      ]
     },
     "execution_count": 26,
     "metadata": {},
     "output_type": "execute_result"
    }
   ],
   "source": [
    "internet.describe()"
   ]
  },
  {
   "cell_type": "code",
   "execution_count": 27,
   "metadata": {},
   "outputs": [
    {
     "data": {
      "text/plain": [
       "Text(0, 0.5, 'user_id')"
      ]
     },
     "execution_count": 27,
     "metadata": {},
     "output_type": "execute_result"
    },
    {
     "data": {
      "image/png": "[encoded data removed]",
      "text/plain": [
       "<Figure size 432x288 with 1 Axes>"
      ]
     },
     "metadata": {
      "needs_background": "light"
     },
     "output_type": "display_data"
    }
   ],
   "source": [
    "_=internet['mb_used'].hist(bins=50, range=(0, 1750))\n",
    "plt.title('Распределение количества пользователей в зависимости от потребляемого трафика')\n",
    "plt.xlabel('mb_used')\n",
    "plt.ylabel('user_id')\n",
    "\n"
   ]
  },
  {
   "cell_type": "code",
   "execution_count": 28,
   "metadata": {},
   "outputs": [
    {
     "data": {
      "text/plain": [
       "19598"
      ]
     },
     "execution_count": 28,
     "metadata": {},
     "output_type": "execute_result"
    }
   ],
   "source": [
    "len(internet[internet.mb_used == 0])"
   ]
  },
  {
   "cell_type": "markdown",
   "metadata": {},
   "source": [
    "#### Вывод:  \n",
    "1. Необходимо поменять типы данных:  \n",
    "        session_date - на datetime\n",
    "        mb_used - на int.  \n",
    "2. Очень много объёма потраченного за сессию интернет-трафика = 0 Мб. \n",
    "        "
   ]
  },
  {
   "cell_type": "markdown",
   "metadata": {},
   "source": [
    "<a id=\"2\"></a>  \n",
    "## Шаг 2. Подготовьте данные"
   ]
  },
  {
   "cell_type": "markdown",
   "metadata": {},
   "source": [
    "### Приведение данных к нужным типам"
   ]
  },
  {
   "cell_type": "markdown",
   "metadata": {},
   "source": [
    "#### Изменение типа \"временных\" столбцов к типу ditetime"
   ]
  },
  {
   "cell_type": "code",
   "execution_count": 29,
   "metadata": {},
   "outputs": [],
   "source": [
    "#создадим функцию для автоматизации приведения к нужному типу нужных временных столбцов из разных файлов\n",
    "def convert_to_datetime(df, columns):\n",
    "    for row in columns:\n",
    "        df[row] = pd.to_datetime(df[row], format='%Y-%m-%d')"
   ]
  },
  {
   "cell_type": "code",
   "execution_count": 30,
   "metadata": {},
   "outputs": [],
   "source": [
    "# Приводим временные столбцы к типу \"datetime\"\n",
    "convert_to_datetime(users, ['reg_date', 'churn_date'])\n",
    "convert_to_datetime(calls, ['call_date'])\n",
    "convert_to_datetime(messages, ['message_date'])\n",
    "convert_to_datetime(internet, ['session_date'])"
   ]
  },
  {
   "cell_type": "code",
   "execution_count": 31,
   "metadata": {},
   "outputs": [
    {
     "name": "stdout",
     "output_type": "stream",
     "text": [
      "<class 'pandas.core.frame.DataFrame'>\n",
      "Int64Index: 149396 entries, 0 to 149395\n",
      "Data columns (total 4 columns):\n",
      "id              149396 non-null object\n",
      "mb_used         149396 non-null float64\n",
      "session_date    149396 non-null datetime64[ns]\n",
      "user_id         149396 non-null int64\n",
      "dtypes: datetime64[ns](1), float64(1), int64(1), object(1)\n",
      "memory usage: 5.7+ MB\n"
     ]
    }
   ],
   "source": [
    "#проверим какой-нибудь один файл\n",
    "internet.info()"
   ]
  },
  {
   "cell_type": "markdown",
   "metadata": {},
   "source": [
    "#### Изменение типа \"float\" столбцов к типу \"int\""
   ]
  },
  {
   "cell_type": "code",
   "execution_count": 32,
   "metadata": {},
   "outputs": [],
   "source": [
    "# создаем функцию для автоматизма\n",
    "def astype_int(data, columns):\n",
    "    for row in columns:\n",
    "        data[row] = data[row].astype('int')"
   ]
  },
  {
   "cell_type": "code",
   "execution_count": 33,
   "metadata": {},
   "outputs": [],
   "source": [
    "# меняем тип данных нужных столбцов\n",
    "# astype_int(calls, ['duration'])\n",
    "# astype_int(internet, ['mb_used'])"
   ]
  },
  {
   "cell_type": "code",
   "execution_count": 34,
   "metadata": {},
   "outputs": [],
   "source": [
    "# проверяем один файл\n",
    "# internet.info()"
   ]
  },
  {
   "cell_type": "markdown",
   "metadata": {},
   "source": [
    "### Обнаружение ошибок и исправление данных"
   ]
  },
  {
   "cell_type": "markdown",
   "metadata": {},
   "source": [
    "#### Длительность разговора"
   ]
  },
  {
   "cell_type": "code",
   "execution_count": 35,
   "metadata": {},
   "outputs": [
    {
     "data": {
      "text/html": [
       "<div>\n",
       "<style scoped>\n",
       "    .dataframe tbody tr th:only-of-type {\n",
       "        vertical-align: middle;\n",
       "    }\n",
       "\n",
       "    .dataframe tbody tr th {\n",
       "        vertical-align: top;\n",
       "    }\n",
       "\n",
       "    .dataframe thead th {\n",
       "        text-align: right;\n",
       "    }\n",
       "</style>\n",
       "<table border=\"1\" class=\"dataframe\">\n",
       "  <thead>\n",
       "    <tr style=\"text-align: right;\">\n",
       "      <th></th>\n",
       "      <th>id</th>\n",
       "      <th>call_date</th>\n",
       "      <th>duration</th>\n",
       "      <th>user_id</th>\n",
       "    </tr>\n",
       "  </thead>\n",
       "  <tbody>\n",
       "    <tr>\n",
       "      <td>0</td>\n",
       "      <td>1000_0</td>\n",
       "      <td>2018-07-25</td>\n",
       "      <td>0.0</td>\n",
       "      <td>1000</td>\n",
       "    </tr>\n",
       "    <tr>\n",
       "      <td>1</td>\n",
       "      <td>1000_1</td>\n",
       "      <td>2018-08-17</td>\n",
       "      <td>0.0</td>\n",
       "      <td>1000</td>\n",
       "    </tr>\n",
       "    <tr>\n",
       "      <td>2</td>\n",
       "      <td>1000_2</td>\n",
       "      <td>2018-06-11</td>\n",
       "      <td>3.0</td>\n",
       "      <td>1000</td>\n",
       "    </tr>\n",
       "    <tr>\n",
       "      <td>3</td>\n",
       "      <td>1000_3</td>\n",
       "      <td>2018-09-21</td>\n",
       "      <td>14.0</td>\n",
       "      <td>1000</td>\n",
       "    </tr>\n",
       "    <tr>\n",
       "      <td>4</td>\n",
       "      <td>1000_4</td>\n",
       "      <td>2018-12-15</td>\n",
       "      <td>6.0</td>\n",
       "      <td>1000</td>\n",
       "    </tr>\n",
       "  </tbody>\n",
       "</table>\n",
       "</div>"
      ],
      "text/plain": [
       "       id  call_date  duration  user_id\n",
       "0  1000_0 2018-07-25       0.0     1000\n",
       "1  1000_1 2018-08-17       0.0     1000\n",
       "2  1000_2 2018-06-11       3.0     1000\n",
       "3  1000_3 2018-09-21      14.0     1000\n",
       "4  1000_4 2018-12-15       6.0     1000"
      ]
     },
     "execution_count": 35,
     "metadata": {},
     "output_type": "execute_result"
    }
   ],
   "source": [
    "# Округляем длительность разговора вверх\n",
    "import numpy as np\n",
    "calls['duration'] = calls['duration'].apply(np.ceil)\n",
    "calls.head()"
   ]
  },
  {
   "cell_type": "code",
   "execution_count": 36,
   "metadata": {},
   "outputs": [
    {
     "data": {
      "text/plain": [
       "Text(0, 0.5, 'user_id')"
      ]
     },
     "execution_count": 36,
     "metadata": {},
     "output_type": "execute_result"
    },
    {
     "data": {
      "image/png": "[encoded data removed]",
      "text/plain": [
       "<Figure size 432x288 with 1 Axes>"
      ]
     },
     "metadata": {
      "needs_background": "light"
     },
     "output_type": "display_data"
    }
   ],
   "source": [
    "_=calls['duration'].hist(bins=50, range=(0, 40))\n",
    "plt.title('Распределение количества пользователей в зависимости от длительности разговора')\n",
    "plt.xlabel('duration')\n",
    "plt.ylabel('user_id')"
   ]
  },
  {
   "cell_type": "code",
   "execution_count": 37,
   "metadata": {},
   "outputs": [
    {
     "data": {
      "text/plain": [
       "39613"
      ]
     },
     "execution_count": 37,
     "metadata": {},
     "output_type": "execute_result"
    }
   ],
   "source": [
    "# Посмотрим сколько у нас нулей\n",
    "len(calls[calls.duration == 0])"
   ]
  },
  {
   "cell_type": "markdown",
   "metadata": {},
   "source": [
    "А что делать с нулями? Нулевая их длительность вызвана прерыванием связи или случаями или как указано в описании проекта -могут быть пропущенные звонки. Т.к. они не расходуют лимиты минут и вообще не принимают участия в формировании конечной выручки, удаляем эти строки."
   ]
  },
  {
   "cell_type": "code",
   "execution_count": 38,
   "metadata": {},
   "outputs": [],
   "source": [
    "calls['duration'] = calls['duration'].replace(0, np.NaN)\n",
    "calls = calls.dropna()"
   ]
  },
  {
   "cell_type": "code",
   "execution_count": 39,
   "metadata": {},
   "outputs": [
    {
     "data": {
      "text/plain": [
       "0"
      ]
     },
     "execution_count": 39,
     "metadata": {},
     "output_type": "execute_result"
    }
   ],
   "source": [
    "# Проверка\n",
    "len(calls[calls.duration == 0])"
   ]
  },
  {
   "cell_type": "code",
   "execution_count": 40,
   "metadata": {},
   "outputs": [
    {
     "data": {
      "text/plain": [
       "Text(0, 0.5, 'user_id')"
      ]
     },
     "execution_count": 40,
     "metadata": {},
     "output_type": "execute_result"
    },
    {
     "data": {
      "image/png": "[encoded data removed]",
      "text/plain": [
       "<Figure size 432x288 with 1 Axes>"
      ]
     },
     "metadata": {
      "needs_background": "light"
     },
     "output_type": "display_data"
    }
   ],
   "source": [
    "_=calls['duration'].hist(bins=50, range=(0, 40))\n",
    "plt.title('Распределение количества пользователей в зависимости от длительности разговора')\n",
    "plt.xlabel('duration')\n",
    "plt.ylabel('user_id')"
   ]
  },
  {
   "cell_type": "markdown",
   "metadata": {},
   "source": [
    "#### Потребление трафика"
   ]
  },
  {
   "cell_type": "code",
   "execution_count": 41,
   "metadata": {},
   "outputs": [],
   "source": [
    "# Округляем трафик вверх\n",
    "internet['mb_used'] = internet['mb_used'].apply(np.ceil)\n"
   ]
  },
  {
   "cell_type": "code",
   "execution_count": 42,
   "metadata": {},
   "outputs": [
    {
     "data": {
      "text/plain": [
       "19598"
      ]
     },
     "execution_count": 42,
     "metadata": {},
     "output_type": "execute_result"
    }
   ],
   "source": [
    "#Проверка\n",
    "len(internet[internet.mb_used == 0])"
   ]
  },
  {
   "cell_type": "code",
   "execution_count": 43,
   "metadata": {},
   "outputs": [
    {
     "data": {
      "text/plain": [
       "Text(0, 0.5, 'user_id')"
      ]
     },
     "execution_count": 43,
     "metadata": {},
     "output_type": "execute_result"
    },
    {
     "data": {
      "image/png": "[encoded data removed]",
      "text/plain": [
       "<Figure size 432x288 with 1 Axes>"
      ]
     },
     "metadata": {
      "needs_background": "light"
     },
     "output_type": "display_data"
    }
   ],
   "source": [
    "_=internet['mb_used'].hist(bins=50, range=(0, 1750))\n",
    "plt.title('Распределение количества пользователей в зависимости от потребляемого трафика')\n",
    "plt.xlabel('mb_used')\n",
    "plt.ylabel('user_id')"
   ]
  },
  {
   "cell_type": "code",
   "execution_count": 44,
   "metadata": {},
   "outputs": [
    {
     "data": {
      "text/plain": [
       "19598"
      ]
     },
     "execution_count": 44,
     "metadata": {},
     "output_type": "execute_result"
    }
   ],
   "source": [
    "# Посмотрим сколько у нас нулевого трафика\n",
    "len(internet[internet.mb_used == 0])"
   ]
  },
  {
   "cell_type": "markdown",
   "metadata": {},
   "source": [
    "А что делать с нулевым трафиком?   \n",
    "Такой случай может быть, что роутер включен,т.е. есть подключение к сети интернет, а потребления трафика нет. "
   ]
  },
  {
   "cell_type": "code",
   "execution_count": 45,
   "metadata": {},
   "outputs": [],
   "source": [
    "#удалим нулевой трафик\n",
    "internet['mb_used'] = internet['mb_used'].replace(0, np.NaN)\n",
    "internet = internet.dropna()"
   ]
  },
  {
   "cell_type": "code",
   "execution_count": 46,
   "metadata": {},
   "outputs": [
    {
     "data": {
      "text/plain": [
       "0"
      ]
     },
     "execution_count": 46,
     "metadata": {},
     "output_type": "execute_result"
    }
   ],
   "source": [
    "# Проверка\n",
    "len(internet[internet.mb_used == 0])"
   ]
  },
  {
   "cell_type": "code",
   "execution_count": 47,
   "metadata": {},
   "outputs": [
    {
     "data": {
      "text/plain": [
       "Text(0, 0.5, 'user_id')"
      ]
     },
     "execution_count": 47,
     "metadata": {},
     "output_type": "execute_result"
    },
    {
     "data": {
      "image/png": "[encoded data removed]",
      "text/plain": [
       "<Figure size 432x288 with 1 Axes>"
      ]
     },
     "metadata": {
      "needs_background": "light"
     },
     "output_type": "display_data"
    }
   ],
   "source": [
    "_=internet['mb_used'].hist(bins=50, range=(0, 1750))\n",
    "plt.title('Распределение количества пользователей в зависимости от потребляемого трафика')\n",
    "plt.xlabel('mb_used')\n",
    "plt.ylabel('user_id')"
   ]
  },
  {
   "cell_type": "markdown",
   "metadata": {},
   "source": [
    "### Количество сделанных звонков и израсходованных минут разговора по месяцам"
   ]
  },
  {
   "cell_type": "code",
   "execution_count": 48,
   "metadata": {},
   "outputs": [],
   "source": [
    "# Создадим функцию для автоматизации добавления столбца 'month_year' в нужных файлах\n",
    "def plus_month(data,columns):\n",
    "    for row in columns:\n",
    "        data['month_year'] = data[row].dt.to_period('M')\n",
    "       "
   ]
  },
  {
   "cell_type": "code",
   "execution_count": 49,
   "metadata": {},
   "outputs": [],
   "source": [
    "#Создадим функцию для автоматизации выводов сводной таблицы\n",
    "def data_pivot_table(data, index, values, agg):\n",
    "    return data.pivot_table(\n",
    "            index=index,\n",
    "            values=values,\n",
    "            aggfunc=agg\n",
    "        )     \n"
   ]
  },
  {
   "cell_type": "code",
   "execution_count": 50,
   "metadata": {},
   "outputs": [],
   "source": [
    "# наша функция просто должна принять все необходимые аргументы и таблицу\n",
    "def data_pivot_table(data, index, values, agg):\n",
    "    return data.pivot_table(\n",
    "            index=index,\n",
    "            values=values,\n",
    "            aggfunc=agg\n",
    "        ) "
   ]
  },
  {
   "cell_type": "code",
   "execution_count": 51,
   "metadata": {},
   "outputs": [],
   "source": [
    "plus_month(calls, ['call_date'])"
   ]
  },
  {
   "cell_type": "code",
   "execution_count": 52,
   "metadata": {},
   "outputs": [
    {
     "data": {
      "text/plain": [
       "Index(['id', 'call_date', 'duration', 'user_id', 'month_year'], dtype='object')"
      ]
     },
     "execution_count": 52,
     "metadata": {},
     "output_type": "execute_result"
    }
   ],
   "source": [
    "# Проверка\n",
    "calls.columns"
   ]
  },
  {
   "cell_type": "code",
   "execution_count": 53,
   "metadata": {},
   "outputs": [
    {
     "data": {
      "text/html": [
       "<div>\n",
       "<style scoped>\n",
       "    .dataframe tbody tr th:only-of-type {\n",
       "        vertical-align: middle;\n",
       "    }\n",
       "\n",
       "    .dataframe tbody tr th {\n",
       "        vertical-align: top;\n",
       "    }\n",
       "\n",
       "    .dataframe thead tr th {\n",
       "        text-align: left;\n",
       "    }\n",
       "</style>\n",
       "<table border=\"1\" class=\"dataframe\">\n",
       "  <thead>\n",
       "    <tr>\n",
       "      <th></th>\n",
       "      <th>month_year</th>\n",
       "      <th>user_id</th>\n",
       "      <th>count</th>\n",
       "      <th>sum</th>\n",
       "    </tr>\n",
       "    <tr>\n",
       "      <th></th>\n",
       "      <th></th>\n",
       "      <th></th>\n",
       "      <th>duration</th>\n",
       "      <th>duration</th>\n",
       "    </tr>\n",
       "  </thead>\n",
       "  <tbody>\n",
       "    <tr>\n",
       "      <td>0</td>\n",
       "      <td>2018-01</td>\n",
       "      <td>1005</td>\n",
       "      <td>11</td>\n",
       "      <td>95.0</td>\n",
       "    </tr>\n",
       "    <tr>\n",
       "      <td>1</td>\n",
       "      <td>2018-01</td>\n",
       "      <td>1032</td>\n",
       "      <td>44</td>\n",
       "      <td>380.0</td>\n",
       "    </tr>\n",
       "    <tr>\n",
       "      <td>2</td>\n",
       "      <td>2018-01</td>\n",
       "      <td>1045</td>\n",
       "      <td>1</td>\n",
       "      <td>9.0</td>\n",
       "    </tr>\n",
       "    <tr>\n",
       "      <td>3</td>\n",
       "      <td>2018-01</td>\n",
       "      <td>1055</td>\n",
       "      <td>47</td>\n",
       "      <td>551.0</td>\n",
       "    </tr>\n",
       "    <tr>\n",
       "      <td>4</td>\n",
       "      <td>2018-01</td>\n",
       "      <td>1071</td>\n",
       "      <td>18</td>\n",
       "      <td>194.0</td>\n",
       "    </tr>\n",
       "    <tr>\n",
       "      <td>...</td>\n",
       "      <td>...</td>\n",
       "      <td>...</td>\n",
       "      <td>...</td>\n",
       "      <td>...</td>\n",
       "    </tr>\n",
       "    <tr>\n",
       "      <td>3163</td>\n",
       "      <td>2018-12</td>\n",
       "      <td>1494</td>\n",
       "      <td>54</td>\n",
       "      <td>418.0</td>\n",
       "    </tr>\n",
       "    <tr>\n",
       "      <td>3164</td>\n",
       "      <td>2018-12</td>\n",
       "      <td>1495</td>\n",
       "      <td>120</td>\n",
       "      <td>1031.0</td>\n",
       "    </tr>\n",
       "    <tr>\n",
       "      <td>3165</td>\n",
       "      <td>2018-12</td>\n",
       "      <td>1496</td>\n",
       "      <td>65</td>\n",
       "      <td>518.0</td>\n",
       "    </tr>\n",
       "    <tr>\n",
       "      <td>3166</td>\n",
       "      <td>2018-12</td>\n",
       "      <td>1497</td>\n",
       "      <td>58</td>\n",
       "      <td>545.0</td>\n",
       "    </tr>\n",
       "    <tr>\n",
       "      <td>3167</td>\n",
       "      <td>2018-12</td>\n",
       "      <td>1499</td>\n",
       "      <td>56</td>\n",
       "      <td>492.0</td>\n",
       "    </tr>\n",
       "  </tbody>\n",
       "</table>\n",
       "<p>3168 rows × 4 columns</p>\n",
       "</div>"
      ],
      "text/plain": [
       "     month_year user_id    count      sum\n",
       "                        duration duration\n",
       "0       2018-01    1005       11     95.0\n",
       "1       2018-01    1032       44    380.0\n",
       "2       2018-01    1045        1      9.0\n",
       "3       2018-01    1055       47    551.0\n",
       "4       2018-01    1071       18    194.0\n",
       "...         ...     ...      ...      ...\n",
       "3163    2018-12    1494       54    418.0\n",
       "3164    2018-12    1495      120   1031.0\n",
       "3165    2018-12    1496       65    518.0\n",
       "3166    2018-12    1497       58    545.0\n",
       "3167    2018-12    1499       56    492.0\n",
       "\n",
       "[3168 rows x 4 columns]"
      ]
     },
     "execution_count": 53,
     "metadata": {},
     "output_type": "execute_result"
    }
   ],
   "source": [
    "# Выводим \"автоматом\" сводную таблицу по готовой функции \n",
    "calls_by_month=data_pivot_table(calls, ['month_year', 'user_id'], 'duration', ['count', 'sum'])\n",
    "calls_by_month.reset_index()"
   ]
  },
  {
   "cell_type": "markdown",
   "metadata": {},
   "source": [
    "### Количество отправленных сообщений по месяцам"
   ]
  },
  {
   "cell_type": "code",
   "execution_count": 54,
   "metadata": {},
   "outputs": [],
   "source": [
    "# добавим данные в готовую функцию для добавления столбца в файл\n",
    "plus_month(messages, ['message_date'])"
   ]
  },
  {
   "cell_type": "code",
   "execution_count": 55,
   "metadata": {},
   "outputs": [
    {
     "data": {
      "text/plain": [
       "Index(['id', 'message_date', 'user_id', 'month_year'], dtype='object')"
      ]
     },
     "execution_count": 55,
     "metadata": {},
     "output_type": "execute_result"
    }
   ],
   "source": [
    "# Проверка\n",
    "messages.columns"
   ]
  },
  {
   "cell_type": "code",
   "execution_count": 56,
   "metadata": {},
   "outputs": [
    {
     "data": {
      "text/html": [
       "<div>\n",
       "<style scoped>\n",
       "    .dataframe tbody tr th:only-of-type {\n",
       "        vertical-align: middle;\n",
       "    }\n",
       "\n",
       "    .dataframe tbody tr th {\n",
       "        vertical-align: top;\n",
       "    }\n",
       "\n",
       "    .dataframe thead th {\n",
       "        text-align: right;\n",
       "    }\n",
       "</style>\n",
       "<table border=\"1\" class=\"dataframe\">\n",
       "  <thead>\n",
       "    <tr style=\"text-align: right;\">\n",
       "      <th></th>\n",
       "      <th>month_year</th>\n",
       "      <th>user_id</th>\n",
       "      <th>id</th>\n",
       "    </tr>\n",
       "  </thead>\n",
       "  <tbody>\n",
       "    <tr>\n",
       "      <td>0</td>\n",
       "      <td>2018-01</td>\n",
       "      <td>1005</td>\n",
       "      <td>7</td>\n",
       "    </tr>\n",
       "    <tr>\n",
       "      <td>1</td>\n",
       "      <td>2018-01</td>\n",
       "      <td>1032</td>\n",
       "      <td>38</td>\n",
       "    </tr>\n",
       "    <tr>\n",
       "      <td>2</td>\n",
       "      <td>2018-01</td>\n",
       "      <td>1045</td>\n",
       "      <td>5</td>\n",
       "    </tr>\n",
       "    <tr>\n",
       "      <td>3</td>\n",
       "      <td>2018-01</td>\n",
       "      <td>1055</td>\n",
       "      <td>30</td>\n",
       "    </tr>\n",
       "    <tr>\n",
       "      <td>4</td>\n",
       "      <td>2018-01</td>\n",
       "      <td>1071</td>\n",
       "      <td>16</td>\n",
       "    </tr>\n",
       "    <tr>\n",
       "      <td>...</td>\n",
       "      <td>...</td>\n",
       "      <td>...</td>\n",
       "      <td>...</td>\n",
       "    </tr>\n",
       "    <tr>\n",
       "      <td>2712</td>\n",
       "      <td>2018-12</td>\n",
       "      <td>1493</td>\n",
       "      <td>78</td>\n",
       "    </tr>\n",
       "    <tr>\n",
       "      <td>2713</td>\n",
       "      <td>2018-12</td>\n",
       "      <td>1495</td>\n",
       "      <td>84</td>\n",
       "    </tr>\n",
       "    <tr>\n",
       "      <td>2714</td>\n",
       "      <td>2018-12</td>\n",
       "      <td>1496</td>\n",
       "      <td>51</td>\n",
       "    </tr>\n",
       "    <tr>\n",
       "      <td>2715</td>\n",
       "      <td>2018-12</td>\n",
       "      <td>1497</td>\n",
       "      <td>17</td>\n",
       "    </tr>\n",
       "    <tr>\n",
       "      <td>2716</td>\n",
       "      <td>2018-12</td>\n",
       "      <td>1499</td>\n",
       "      <td>66</td>\n",
       "    </tr>\n",
       "  </tbody>\n",
       "</table>\n",
       "<p>2717 rows × 3 columns</p>\n",
       "</div>"
      ],
      "text/plain": [
       "     month_year  user_id  id\n",
       "0       2018-01     1005   7\n",
       "1       2018-01     1032  38\n",
       "2       2018-01     1045   5\n",
       "3       2018-01     1055  30\n",
       "4       2018-01     1071  16\n",
       "...         ...      ...  ..\n",
       "2712    2018-12     1493  78\n",
       "2713    2018-12     1495  84\n",
       "2714    2018-12     1496  51\n",
       "2715    2018-12     1497  17\n",
       "2716    2018-12     1499  66\n",
       "\n",
       "[2717 rows x 3 columns]"
      ]
     },
     "execution_count": 56,
     "metadata": {},
     "output_type": "execute_result"
    }
   ],
   "source": [
    "# Выводим \"автоматом\" сводную таблицу по готовой функции \n",
    "messages_by_month=data_pivot_table(messages, ['month_year', 'user_id'], 'id', 'count')\n",
    "messages_by_month.reset_index()"
   ]
  },
  {
   "cell_type": "markdown",
   "metadata": {},
   "source": [
    "### Объем израсходованного интернет-трафика по месяцам"
   ]
  },
  {
   "cell_type": "code",
   "execution_count": 57,
   "metadata": {},
   "outputs": [],
   "source": [
    "# добавим данные в готовую функцию для добавления столбца в файл\n",
    "plus_month(internet, ['session_date'])"
   ]
  },
  {
   "cell_type": "code",
   "execution_count": 58,
   "metadata": {},
   "outputs": [
    {
     "name": "stdout",
     "output_type": "stream",
     "text": [
      "<class 'pandas.core.frame.DataFrame'>\n",
      "Int64Index: 129798 entries, 0 to 149395\n",
      "Data columns (total 5 columns):\n",
      "id              129798 non-null object\n",
      "mb_used         129798 non-null float64\n",
      "session_date    129798 non-null datetime64[ns]\n",
      "user_id         129798 non-null int64\n",
      "month_year      129798 non-null period[M]\n",
      "dtypes: datetime64[ns](1), float64(1), int64(1), object(1), period[M](1)\n",
      "memory usage: 5.9+ MB\n"
     ]
    }
   ],
   "source": [
    "#проверка\n",
    "internet.info()"
   ]
  },
  {
   "cell_type": "code",
   "execution_count": 59,
   "metadata": {},
   "outputs": [
    {
     "data": {
      "text/html": [
       "<div>\n",
       "<style scoped>\n",
       "    .dataframe tbody tr th:only-of-type {\n",
       "        vertical-align: middle;\n",
       "    }\n",
       "\n",
       "    .dataframe tbody tr th {\n",
       "        vertical-align: top;\n",
       "    }\n",
       "\n",
       "    .dataframe thead th {\n",
       "        text-align: right;\n",
       "    }\n",
       "</style>\n",
       "<table border=\"1\" class=\"dataframe\">\n",
       "  <thead>\n",
       "    <tr style=\"text-align: right;\">\n",
       "      <th></th>\n",
       "      <th>month_year</th>\n",
       "      <th>user_id</th>\n",
       "      <th>mb_used</th>\n",
       "    </tr>\n",
       "  </thead>\n",
       "  <tbody>\n",
       "    <tr>\n",
       "      <td>0</td>\n",
       "      <td>2018-01</td>\n",
       "      <td>1005</td>\n",
       "      <td>2730.0</td>\n",
       "    </tr>\n",
       "    <tr>\n",
       "      <td>1</td>\n",
       "      <td>2018-01</td>\n",
       "      <td>1032</td>\n",
       "      <td>24147.0</td>\n",
       "    </tr>\n",
       "    <tr>\n",
       "      <td>2</td>\n",
       "      <td>2018-01</td>\n",
       "      <td>1045</td>\n",
       "      <td>2348.0</td>\n",
       "    </tr>\n",
       "    <tr>\n",
       "      <td>3</td>\n",
       "      <td>2018-01</td>\n",
       "      <td>1055</td>\n",
       "      <td>17111.0</td>\n",
       "    </tr>\n",
       "    <tr>\n",
       "      <td>4</td>\n",
       "      <td>2018-01</td>\n",
       "      <td>1071</td>\n",
       "      <td>15622.0</td>\n",
       "    </tr>\n",
       "    <tr>\n",
       "      <td>...</td>\n",
       "      <td>...</td>\n",
       "      <td>...</td>\n",
       "      <td>...</td>\n",
       "    </tr>\n",
       "    <tr>\n",
       "      <td>3196</td>\n",
       "      <td>2018-12</td>\n",
       "      <td>1494</td>\n",
       "      <td>17645.0</td>\n",
       "    </tr>\n",
       "    <tr>\n",
       "      <td>3197</td>\n",
       "      <td>2018-12</td>\n",
       "      <td>1495</td>\n",
       "      <td>23450.0</td>\n",
       "    </tr>\n",
       "    <tr>\n",
       "      <td>3198</td>\n",
       "      <td>2018-12</td>\n",
       "      <td>1496</td>\n",
       "      <td>20757.0</td>\n",
       "    </tr>\n",
       "    <tr>\n",
       "      <td>3199</td>\n",
       "      <td>2018-12</td>\n",
       "      <td>1497</td>\n",
       "      <td>19940.0</td>\n",
       "    </tr>\n",
       "    <tr>\n",
       "      <td>3200</td>\n",
       "      <td>2018-12</td>\n",
       "      <td>1499</td>\n",
       "      <td>13077.0</td>\n",
       "    </tr>\n",
       "  </tbody>\n",
       "</table>\n",
       "<p>3201 rows × 3 columns</p>\n",
       "</div>"
      ],
      "text/plain": [
       "     month_year  user_id  mb_used\n",
       "0       2018-01     1005   2730.0\n",
       "1       2018-01     1032  24147.0\n",
       "2       2018-01     1045   2348.0\n",
       "3       2018-01     1055  17111.0\n",
       "4       2018-01     1071  15622.0\n",
       "...         ...      ...      ...\n",
       "3196    2018-12     1494  17645.0\n",
       "3197    2018-12     1495  23450.0\n",
       "3198    2018-12     1496  20757.0\n",
       "3199    2018-12     1497  19940.0\n",
       "3200    2018-12     1499  13077.0\n",
       "\n",
       "[3201 rows x 3 columns]"
      ]
     },
     "execution_count": 59,
     "metadata": {},
     "output_type": "execute_result"
    }
   ],
   "source": [
    "# Выводим \"автоматом\" сводную таблицу по готовой функции \n",
    "internet_by_month = data_pivot_table(internet, ['month_year', 'user_id'], 'mb_used', 'sum')\n",
    "internet_by_month.reset_index()"
   ]
  },
  {
   "cell_type": "markdown",
   "metadata": {},
   "source": [
    "### Помесячная выручка с каждого пользователя"
   ]
  },
  {
   "cell_type": "markdown",
   "metadata": {},
   "source": [
    "#### Соединение таблиц "
   ]
  },
  {
   "cell_type": "code",
   "execution_count": 60,
   "metadata": {},
   "outputs": [],
   "source": [
    "# Общую таблицу назовем\n",
    "multi=pd.DataFrame()"
   ]
  },
  {
   "cell_type": "code",
   "execution_count": 61,
   "metadata": {},
   "outputs": [
    {
     "name": "stderr",
     "output_type": "stream",
     "text": [
      "/opt/conda/lib/python3.7/site-packages/pandas/core/reshape/merge.py:617: UserWarning: merging between different levels can give an unintended result (2 levels on the left, 1 on the right)\n",
      "  warnings.warn(msg, UserWarning)\n"
     ]
    }
   ],
   "source": [
    "#объединяем полученные таблицы в одну - data_services\n",
    "multi = (\n",
    "    calls_by_month.merge(messages_by_month, on=['user_id','month_year'], how='outer').\n",
    "    merge(internet_by_month, on=['user_id','month_year'], how='outer').\n",
    "    sort_values(by = ['user_id','month_year'])\n",
    ")\n",
    "multi =multi.reset_index()"
   ]
  },
  {
   "cell_type": "code",
   "execution_count": 62,
   "metadata": {},
   "outputs": [
    {
     "data": {
      "text/html": [
       "<div>\n",
       "<style scoped>\n",
       "    .dataframe tbody tr th:only-of-type {\n",
       "        vertical-align: middle;\n",
       "    }\n",
       "\n",
       "    .dataframe tbody tr th {\n",
       "        vertical-align: top;\n",
       "    }\n",
       "\n",
       "    .dataframe thead th {\n",
       "        text-align: right;\n",
       "    }\n",
       "</style>\n",
       "<table border=\"1\" class=\"dataframe\">\n",
       "  <thead>\n",
       "    <tr style=\"text-align: right;\">\n",
       "      <th></th>\n",
       "      <th>user_id</th>\n",
       "      <th>month_year</th>\n",
       "      <th>(count, duration)</th>\n",
       "      <th>(sum, duration)</th>\n",
       "      <th>id</th>\n",
       "      <th>mb_used</th>\n",
       "    </tr>\n",
       "  </thead>\n",
       "  <tbody>\n",
       "    <tr>\n",
       "      <td>0</td>\n",
       "      <td>1000</td>\n",
       "      <td>2018-05</td>\n",
       "      <td>17.0</td>\n",
       "      <td>159.0</td>\n",
       "      <td>22.0</td>\n",
       "      <td>2256.0</td>\n",
       "    </tr>\n",
       "    <tr>\n",
       "      <td>1</td>\n",
       "      <td>1000</td>\n",
       "      <td>2018-06</td>\n",
       "      <td>28.0</td>\n",
       "      <td>172.0</td>\n",
       "      <td>60.0</td>\n",
       "      <td>23257.0</td>\n",
       "    </tr>\n",
       "    <tr>\n",
       "      <td>2</td>\n",
       "      <td>1000</td>\n",
       "      <td>2018-07</td>\n",
       "      <td>41.0</td>\n",
       "      <td>340.0</td>\n",
       "      <td>75.0</td>\n",
       "      <td>14016.0</td>\n",
       "    </tr>\n",
       "    <tr>\n",
       "      <td>3</td>\n",
       "      <td>1000</td>\n",
       "      <td>2018-08</td>\n",
       "      <td>42.0</td>\n",
       "      <td>408.0</td>\n",
       "      <td>81.0</td>\n",
       "      <td>14070.0</td>\n",
       "    </tr>\n",
       "    <tr>\n",
       "      <td>4</td>\n",
       "      <td>1000</td>\n",
       "      <td>2018-09</td>\n",
       "      <td>46.0</td>\n",
       "      <td>466.0</td>\n",
       "      <td>57.0</td>\n",
       "      <td>14581.0</td>\n",
       "    </tr>\n",
       "  </tbody>\n",
       "</table>\n",
       "</div>"
      ],
      "text/plain": [
       "   user_id month_year  (count, duration)  (sum, duration)    id  mb_used\n",
       "0     1000    2018-05               17.0            159.0  22.0   2256.0\n",
       "1     1000    2018-06               28.0            172.0  60.0  23257.0\n",
       "2     1000    2018-07               41.0            340.0  75.0  14016.0\n",
       "3     1000    2018-08               42.0            408.0  81.0  14070.0\n",
       "4     1000    2018-09               46.0            466.0  57.0  14581.0"
      ]
     },
     "execution_count": 62,
     "metadata": {},
     "output_type": "execute_result"
    }
   ],
   "source": [
    "multi.head()"
   ]
  },
  {
   "cell_type": "code",
   "execution_count": 63,
   "metadata": {},
   "outputs": [
    {
     "name": "stdout",
     "output_type": "stream",
     "text": [
      "<class 'pandas.core.frame.DataFrame'>\n",
      "RangeIndex: 3214 entries, 0 to 3213\n",
      "Data columns (total 6 columns):\n",
      "user_id              3214 non-null int64\n",
      "month_year           3214 non-null period[M]\n",
      "(count, duration)    3168 non-null float64\n",
      "(sum, duration)      3168 non-null float64\n",
      "id                   2717 non-null float64\n",
      "mb_used              3201 non-null float64\n",
      "dtypes: float64(4), int64(1), period[M](1)\n",
      "memory usage: 150.8 KB\n"
     ]
    }
   ],
   "source": [
    "multi.info()"
   ]
  },
  {
   "cell_type": "code",
   "execution_count": 64,
   "metadata": {},
   "outputs": [],
   "source": [
    "multi = multi.drop_duplicates()"
   ]
  },
  {
   "cell_type": "code",
   "execution_count": 65,
   "metadata": {},
   "outputs": [
    {
     "name": "stdout",
     "output_type": "stream",
     "text": [
      "<class 'pandas.core.frame.DataFrame'>\n",
      "Int64Index: 3214 entries, 0 to 3213\n",
      "Data columns (total 6 columns):\n",
      "user_id              3214 non-null int64\n",
      "month_year           3214 non-null period[M]\n",
      "(count, duration)    3168 non-null float64\n",
      "(sum, duration)      3168 non-null float64\n",
      "id                   2717 non-null float64\n",
      "mb_used              3201 non-null float64\n",
      "dtypes: float64(4), int64(1), period[M](1)\n",
      "memory usage: 175.8 KB\n"
     ]
    }
   ],
   "source": [
    "multi.info()"
   ]
  },
  {
   "cell_type": "code",
   "execution_count": 66,
   "metadata": {},
   "outputs": [],
   "source": [
    "#заполняем пропуски (NaN) в data_services нулями (0)\n",
    "multi= multi.fillna(0)"
   ]
  },
  {
   "cell_type": "code",
   "execution_count": 67,
   "metadata": {},
   "outputs": [
    {
     "name": "stdout",
     "output_type": "stream",
     "text": [
      "<class 'pandas.core.frame.DataFrame'>\n",
      "Int64Index: 3214 entries, 0 to 3213\n",
      "Data columns (total 6 columns):\n",
      "user_id              3214 non-null int64\n",
      "month_year           3214 non-null period[M]\n",
      "(count, duration)    3214 non-null float64\n",
      "(sum, duration)      3214 non-null float64\n",
      "id                   3214 non-null float64\n",
      "mb_used              3214 non-null float64\n",
      "dtypes: float64(4), int64(1), period[M](1)\n",
      "memory usage: 175.8 KB\n"
     ]
    }
   ],
   "source": [
    "multi.info()"
   ]
  },
  {
   "cell_type": "code",
   "execution_count": 68,
   "metadata": {},
   "outputs": [
    {
     "data": {
      "text/html": [
       "<div>\n",
       "<style scoped>\n",
       "    .dataframe tbody tr th:only-of-type {\n",
       "        vertical-align: middle;\n",
       "    }\n",
       "\n",
       "    .dataframe tbody tr th {\n",
       "        vertical-align: top;\n",
       "    }\n",
       "\n",
       "    .dataframe thead th {\n",
       "        text-align: right;\n",
       "    }\n",
       "</style>\n",
       "<table border=\"1\" class=\"dataframe\">\n",
       "  <thead>\n",
       "    <tr style=\"text-align: right;\">\n",
       "      <th></th>\n",
       "      <th>user_id</th>\n",
       "      <th>month_year</th>\n",
       "      <th>(count, duration)</th>\n",
       "      <th>(sum, duration)</th>\n",
       "      <th>id</th>\n",
       "      <th>mb_used</th>\n",
       "    </tr>\n",
       "  </thead>\n",
       "  <tbody>\n",
       "    <tr>\n",
       "      <td>0</td>\n",
       "      <td>1000</td>\n",
       "      <td>2018-05</td>\n",
       "      <td>17.0</td>\n",
       "      <td>159.0</td>\n",
       "      <td>22.0</td>\n",
       "      <td>2256.0</td>\n",
       "    </tr>\n",
       "    <tr>\n",
       "      <td>1</td>\n",
       "      <td>1000</td>\n",
       "      <td>2018-06</td>\n",
       "      <td>28.0</td>\n",
       "      <td>172.0</td>\n",
       "      <td>60.0</td>\n",
       "      <td>23257.0</td>\n",
       "    </tr>\n",
       "    <tr>\n",
       "      <td>2</td>\n",
       "      <td>1000</td>\n",
       "      <td>2018-07</td>\n",
       "      <td>41.0</td>\n",
       "      <td>340.0</td>\n",
       "      <td>75.0</td>\n",
       "      <td>14016.0</td>\n",
       "    </tr>\n",
       "    <tr>\n",
       "      <td>3</td>\n",
       "      <td>1000</td>\n",
       "      <td>2018-08</td>\n",
       "      <td>42.0</td>\n",
       "      <td>408.0</td>\n",
       "      <td>81.0</td>\n",
       "      <td>14070.0</td>\n",
       "    </tr>\n",
       "    <tr>\n",
       "      <td>4</td>\n",
       "      <td>1000</td>\n",
       "      <td>2018-09</td>\n",
       "      <td>46.0</td>\n",
       "      <td>466.0</td>\n",
       "      <td>57.0</td>\n",
       "      <td>14581.0</td>\n",
       "    </tr>\n",
       "  </tbody>\n",
       "</table>\n",
       "</div>"
      ],
      "text/plain": [
       "   user_id month_year  (count, duration)  (sum, duration)    id  mb_used\n",
       "0     1000    2018-05               17.0            159.0  22.0   2256.0\n",
       "1     1000    2018-06               28.0            172.0  60.0  23257.0\n",
       "2     1000    2018-07               41.0            340.0  75.0  14016.0\n",
       "3     1000    2018-08               42.0            408.0  81.0  14070.0\n",
       "4     1000    2018-09               46.0            466.0  57.0  14581.0"
      ]
     },
     "execution_count": 68,
     "metadata": {},
     "output_type": "execute_result"
    }
   ],
   "source": [
    "multi.head()"
   ]
  },
  {
   "cell_type": "code",
   "execution_count": 69,
   "metadata": {},
   "outputs": [
    {
     "data": {
      "text/html": [
       "<div>\n",
       "<style scoped>\n",
       "    .dataframe tbody tr th:only-of-type {\n",
       "        vertical-align: middle;\n",
       "    }\n",
       "\n",
       "    .dataframe tbody tr th {\n",
       "        vertical-align: top;\n",
       "    }\n",
       "\n",
       "    .dataframe thead th {\n",
       "        text-align: right;\n",
       "    }\n",
       "</style>\n",
       "<table border=\"1\" class=\"dataframe\">\n",
       "  <thead>\n",
       "    <tr style=\"text-align: right;\">\n",
       "      <th></th>\n",
       "      <th>user_id</th>\n",
       "      <th>month_year</th>\n",
       "      <th>count_calls</th>\n",
       "      <th>minutes</th>\n",
       "      <th>messages</th>\n",
       "      <th>mb</th>\n",
       "    </tr>\n",
       "  </thead>\n",
       "  <tbody>\n",
       "    <tr>\n",
       "      <td>0</td>\n",
       "      <td>1000</td>\n",
       "      <td>2018-05</td>\n",
       "      <td>17.0</td>\n",
       "      <td>159.0</td>\n",
       "      <td>22.0</td>\n",
       "      <td>2256.0</td>\n",
       "    </tr>\n",
       "    <tr>\n",
       "      <td>1</td>\n",
       "      <td>1000</td>\n",
       "      <td>2018-06</td>\n",
       "      <td>28.0</td>\n",
       "      <td>172.0</td>\n",
       "      <td>60.0</td>\n",
       "      <td>23257.0</td>\n",
       "    </tr>\n",
       "    <tr>\n",
       "      <td>2</td>\n",
       "      <td>1000</td>\n",
       "      <td>2018-07</td>\n",
       "      <td>41.0</td>\n",
       "      <td>340.0</td>\n",
       "      <td>75.0</td>\n",
       "      <td>14016.0</td>\n",
       "    </tr>\n",
       "    <tr>\n",
       "      <td>3</td>\n",
       "      <td>1000</td>\n",
       "      <td>2018-08</td>\n",
       "      <td>42.0</td>\n",
       "      <td>408.0</td>\n",
       "      <td>81.0</td>\n",
       "      <td>14070.0</td>\n",
       "    </tr>\n",
       "    <tr>\n",
       "      <td>4</td>\n",
       "      <td>1000</td>\n",
       "      <td>2018-09</td>\n",
       "      <td>46.0</td>\n",
       "      <td>466.0</td>\n",
       "      <td>57.0</td>\n",
       "      <td>14581.0</td>\n",
       "    </tr>\n",
       "  </tbody>\n",
       "</table>\n",
       "</div>"
      ],
      "text/plain": [
       "   user_id month_year  count_calls  minutes  messages       mb\n",
       "0     1000    2018-05         17.0    159.0      22.0   2256.0\n",
       "1     1000    2018-06         28.0    172.0      60.0  23257.0\n",
       "2     1000    2018-07         41.0    340.0      75.0  14016.0\n",
       "3     1000    2018-08         42.0    408.0      81.0  14070.0\n",
       "4     1000    2018-09         46.0    466.0      57.0  14581.0"
      ]
     },
     "execution_count": 69,
     "metadata": {},
     "output_type": "execute_result"
    }
   ],
   "source": [
    "multi.set_axis(['user_id', 'month_year','count_calls', 'minutes', 'messages', 'mb'], axis = 'columns', inplace = True) \n",
    "multi.head()"
   ]
  },
  {
   "cell_type": "code",
   "execution_count": 70,
   "metadata": {},
   "outputs": [
    {
     "name": "stdout",
     "output_type": "stream",
     "text": [
      "<class 'pandas.core.frame.DataFrame'>\n",
      "Int64Index: 3214 entries, 0 to 3213\n",
      "Data columns (total 6 columns):\n",
      "user_id        3214 non-null int64\n",
      "month_year     3214 non-null period[M]\n",
      "count_calls    3214 non-null float64\n",
      "minutes        3214 non-null float64\n",
      "messages       3214 non-null float64\n",
      "mb             3214 non-null float64\n",
      "dtypes: float64(4), int64(1), period[M](1)\n",
      "memory usage: 175.8 KB\n"
     ]
    }
   ],
   "source": [
    "multi.info()"
   ]
  },
  {
   "cell_type": "code",
   "execution_count": 71,
   "metadata": {},
   "outputs": [
    {
     "name": "stdout",
     "output_type": "stream",
     "text": [
      "<class 'pandas.core.frame.DataFrame'>\n",
      "Int64Index: 3214 entries, 0 to 3213\n",
      "Data columns (total 6 columns):\n",
      "user_id        3214 non-null int64\n",
      "month_year     3214 non-null period[M]\n",
      "count_calls    3214 non-null int64\n",
      "minutes        3214 non-null int64\n",
      "messages       3214 non-null int64\n",
      "mb             3214 non-null int64\n",
      "dtypes: int64(5), period[M](1)\n",
      "memory usage: 175.8 KB\n"
     ]
    }
   ],
   "source": [
    "multi[['count_calls','minutes','messages','mb']]=multi[['count_calls','minutes','messages','mb']].astype('int')\n",
    "multi.info()"
   ]
  },
  {
   "cell_type": "markdown",
   "metadata": {},
   "source": [
    "Соединим еще таблицы \"Клиенты\" и \"Тарифы\""
   ]
  },
  {
   "cell_type": "code",
   "execution_count": 72,
   "metadata": {},
   "outputs": [],
   "source": [
    "#Сперва переименуем столбец в файле тарифов\n",
    "tariffs = tariffs.rename(columns={'tariff_name': 'tariff'})"
   ]
  },
  {
   "cell_type": "code",
   "execution_count": 73,
   "metadata": {},
   "outputs": [],
   "source": [
    "# соединяем 3 таблицы\n",
    "multi = multi.merge(users, on='user_id', how='left').merge(tariffs, on='tariff', how='left')"
   ]
  },
  {
   "cell_type": "code",
   "execution_count": 74,
   "metadata": {},
   "outputs": [
    {
     "data": {
      "text/html": [
       "<div>\n",
       "<style scoped>\n",
       "    .dataframe tbody tr th:only-of-type {\n",
       "        vertical-align: middle;\n",
       "    }\n",
       "\n",
       "    .dataframe tbody tr th {\n",
       "        vertical-align: top;\n",
       "    }\n",
       "\n",
       "    .dataframe thead th {\n",
       "        text-align: right;\n",
       "    }\n",
       "</style>\n",
       "<table border=\"1\" class=\"dataframe\">\n",
       "  <thead>\n",
       "    <tr style=\"text-align: right;\">\n",
       "      <th></th>\n",
       "      <th>user_id</th>\n",
       "      <th>month_year</th>\n",
       "      <th>count_calls</th>\n",
       "      <th>minutes</th>\n",
       "      <th>messages</th>\n",
       "      <th>mb</th>\n",
       "      <th>age</th>\n",
       "      <th>churn_date</th>\n",
       "      <th>city</th>\n",
       "      <th>first_name</th>\n",
       "      <th>last_name</th>\n",
       "      <th>reg_date</th>\n",
       "      <th>tariff</th>\n",
       "      <th>messages_included</th>\n",
       "      <th>mb_per_month_included</th>\n",
       "      <th>minutes_included</th>\n",
       "      <th>rub_monthly_fee</th>\n",
       "      <th>rub_per_gb</th>\n",
       "      <th>rub_per_message</th>\n",
       "      <th>rub_per_minute</th>\n",
       "    </tr>\n",
       "  </thead>\n",
       "  <tbody>\n",
       "    <tr>\n",
       "      <td>0</td>\n",
       "      <td>1000</td>\n",
       "      <td>2018-05</td>\n",
       "      <td>17</td>\n",
       "      <td>159</td>\n",
       "      <td>22</td>\n",
       "      <td>2256</td>\n",
       "      <td>52</td>\n",
       "      <td>NaT</td>\n",
       "      <td>Краснодар</td>\n",
       "      <td>Рафаил</td>\n",
       "      <td>Верещагин</td>\n",
       "      <td>2018-05-25</td>\n",
       "      <td>ultra</td>\n",
       "      <td>1000</td>\n",
       "      <td>30720</td>\n",
       "      <td>3000</td>\n",
       "      <td>1950</td>\n",
       "      <td>150</td>\n",
       "      <td>1</td>\n",
       "      <td>1</td>\n",
       "    </tr>\n",
       "    <tr>\n",
       "      <td>1</td>\n",
       "      <td>1000</td>\n",
       "      <td>2018-06</td>\n",
       "      <td>28</td>\n",
       "      <td>172</td>\n",
       "      <td>60</td>\n",
       "      <td>23257</td>\n",
       "      <td>52</td>\n",
       "      <td>NaT</td>\n",
       "      <td>Краснодар</td>\n",
       "      <td>Рафаил</td>\n",
       "      <td>Верещагин</td>\n",
       "      <td>2018-05-25</td>\n",
       "      <td>ultra</td>\n",
       "      <td>1000</td>\n",
       "      <td>30720</td>\n",
       "      <td>3000</td>\n",
       "      <td>1950</td>\n",
       "      <td>150</td>\n",
       "      <td>1</td>\n",
       "      <td>1</td>\n",
       "    </tr>\n",
       "    <tr>\n",
       "      <td>2</td>\n",
       "      <td>1000</td>\n",
       "      <td>2018-07</td>\n",
       "      <td>41</td>\n",
       "      <td>340</td>\n",
       "      <td>75</td>\n",
       "      <td>14016</td>\n",
       "      <td>52</td>\n",
       "      <td>NaT</td>\n",
       "      <td>Краснодар</td>\n",
       "      <td>Рафаил</td>\n",
       "      <td>Верещагин</td>\n",
       "      <td>2018-05-25</td>\n",
       "      <td>ultra</td>\n",
       "      <td>1000</td>\n",
       "      <td>30720</td>\n",
       "      <td>3000</td>\n",
       "      <td>1950</td>\n",
       "      <td>150</td>\n",
       "      <td>1</td>\n",
       "      <td>1</td>\n",
       "    </tr>\n",
       "    <tr>\n",
       "      <td>3</td>\n",
       "      <td>1000</td>\n",
       "      <td>2018-08</td>\n",
       "      <td>42</td>\n",
       "      <td>408</td>\n",
       "      <td>81</td>\n",
       "      <td>14070</td>\n",
       "      <td>52</td>\n",
       "      <td>NaT</td>\n",
       "      <td>Краснодар</td>\n",
       "      <td>Рафаил</td>\n",
       "      <td>Верещагин</td>\n",
       "      <td>2018-05-25</td>\n",
       "      <td>ultra</td>\n",
       "      <td>1000</td>\n",
       "      <td>30720</td>\n",
       "      <td>3000</td>\n",
       "      <td>1950</td>\n",
       "      <td>150</td>\n",
       "      <td>1</td>\n",
       "      <td>1</td>\n",
       "    </tr>\n",
       "    <tr>\n",
       "      <td>4</td>\n",
       "      <td>1000</td>\n",
       "      <td>2018-09</td>\n",
       "      <td>46</td>\n",
       "      <td>466</td>\n",
       "      <td>57</td>\n",
       "      <td>14581</td>\n",
       "      <td>52</td>\n",
       "      <td>NaT</td>\n",
       "      <td>Краснодар</td>\n",
       "      <td>Рафаил</td>\n",
       "      <td>Верещагин</td>\n",
       "      <td>2018-05-25</td>\n",
       "      <td>ultra</td>\n",
       "      <td>1000</td>\n",
       "      <td>30720</td>\n",
       "      <td>3000</td>\n",
       "      <td>1950</td>\n",
       "      <td>150</td>\n",
       "      <td>1</td>\n",
       "      <td>1</td>\n",
       "    </tr>\n",
       "  </tbody>\n",
       "</table>\n",
       "</div>"
      ],
      "text/plain": [
       "   user_id month_year  count_calls  minutes  messages     mb  age churn_date  \\\n",
       "0     1000    2018-05           17      159        22   2256   52        NaT   \n",
       "1     1000    2018-06           28      172        60  23257   52        NaT   \n",
       "2     1000    2018-07           41      340        75  14016   52        NaT   \n",
       "3     1000    2018-08           42      408        81  14070   52        NaT   \n",
       "4     1000    2018-09           46      466        57  14581   52        NaT   \n",
       "\n",
       "        city first_name  last_name   reg_date tariff  messages_included  \\\n",
       "0  Краснодар     Рафаил  Верещагин 2018-05-25  ultra               1000   \n",
       "1  Краснодар     Рафаил  Верещагин 2018-05-25  ultra               1000   \n",
       "2  Краснодар     Рафаил  Верещагин 2018-05-25  ultra               1000   \n",
       "3  Краснодар     Рафаил  Верещагин 2018-05-25  ultra               1000   \n",
       "4  Краснодар     Рафаил  Верещагин 2018-05-25  ultra               1000   \n",
       "\n",
       "   mb_per_month_included  minutes_included  rub_monthly_fee  rub_per_gb  \\\n",
       "0                  30720              3000             1950         150   \n",
       "1                  30720              3000             1950         150   \n",
       "2                  30720              3000             1950         150   \n",
       "3                  30720              3000             1950         150   \n",
       "4                  30720              3000             1950         150   \n",
       "\n",
       "   rub_per_message  rub_per_minute  \n",
       "0                1               1  \n",
       "1                1               1  \n",
       "2                1               1  \n",
       "3                1               1  \n",
       "4                1               1  "
      ]
     },
     "execution_count": 74,
     "metadata": {},
     "output_type": "execute_result"
    }
   ],
   "source": [
    "multi.head()"
   ]
  },
  {
   "cell_type": "code",
   "execution_count": 75,
   "metadata": {
    "scrolled": false
   },
   "outputs": [
    {
     "name": "stdout",
     "output_type": "stream",
     "text": [
      "<class 'pandas.core.frame.DataFrame'>\n",
      "Int64Index: 3214 entries, 0 to 3213\n",
      "Data columns (total 20 columns):\n",
      "user_id                  3214 non-null int64\n",
      "month_year               3214 non-null period[M]\n",
      "count_calls              3214 non-null int64\n",
      "minutes                  3214 non-null int64\n",
      "messages                 3214 non-null int64\n",
      "mb                       3214 non-null int64\n",
      "age                      3214 non-null int64\n",
      "churn_date               187 non-null datetime64[ns]\n",
      "city                     3214 non-null object\n",
      "first_name               3214 non-null object\n",
      "last_name                3214 non-null object\n",
      "reg_date                 3214 non-null datetime64[ns]\n",
      "tariff                   3214 non-null object\n",
      "messages_included        3214 non-null int64\n",
      "mb_per_month_included    3214 non-null int64\n",
      "minutes_included         3214 non-null int64\n",
      "rub_monthly_fee          3214 non-null int64\n",
      "rub_per_gb               3214 non-null int64\n",
      "rub_per_message          3214 non-null int64\n",
      "rub_per_minute           3214 non-null int64\n",
      "dtypes: datetime64[ns](2), int64(13), object(4), period[M](1)\n",
      "memory usage: 527.3+ KB\n"
     ]
    }
   ],
   "source": [
    "multi.info()"
   ]
  },
  {
   "cell_type": "code",
   "execution_count": 76,
   "metadata": {},
   "outputs": [],
   "source": [
    "#Функция расчета помесячной выручки с каждого пользователя\n",
    "def money_serv(row):\n",
    "    money_calls = (row['minutes'] - row['minutes_included'])*row['rub_per_minute']\n",
    "    if money_calls < 0:\n",
    "        money_calls = 0\n",
    "    money_messages = (row['messages'] - row['messages_included'])*row['rub_per_message']\n",
    "    if money_messages < 0:\n",
    "        money_messages = 0\n",
    "    money_internet = ((row['mb'] - row['mb_per_month_included'])/1024)*row['rub_per_gb']\n",
    "    if money_internet < 0:\n",
    "        money_internet = 0\n",
    "    money_total =  money_calls + money_messages + money_internet + row['rub_monthly_fee']\n",
    "    return money_total"
   ]
  },
  {
   "cell_type": "code",
   "execution_count": 77,
   "metadata": {},
   "outputs": [],
   "source": [
    "#считаем помесячную выручку с каждого пользователя\n",
    "\n",
    "multi['total_money'] = multi.apply(money_serv, axis=1)"
   ]
  },
  {
   "cell_type": "code",
   "execution_count": 78,
   "metadata": {},
   "outputs": [
    {
     "data": {
      "text/html": [
       "<div>\n",
       "<style scoped>\n",
       "    .dataframe tbody tr th:only-of-type {\n",
       "        vertical-align: middle;\n",
       "    }\n",
       "\n",
       "    .dataframe tbody tr th {\n",
       "        vertical-align: top;\n",
       "    }\n",
       "\n",
       "    .dataframe thead th {\n",
       "        text-align: right;\n",
       "    }\n",
       "</style>\n",
       "<table border=\"1\" class=\"dataframe\">\n",
       "  <thead>\n",
       "    <tr style=\"text-align: right;\">\n",
       "      <th></th>\n",
       "      <th>user_id</th>\n",
       "      <th>month_year</th>\n",
       "      <th>total_money</th>\n",
       "    </tr>\n",
       "  </thead>\n",
       "  <tbody>\n",
       "    <tr>\n",
       "      <td>0</td>\n",
       "      <td>1000</td>\n",
       "      <td>2018-05</td>\n",
       "      <td>1950.000000</td>\n",
       "    </tr>\n",
       "    <tr>\n",
       "      <td>1</td>\n",
       "      <td>1000</td>\n",
       "      <td>2018-06</td>\n",
       "      <td>1950.000000</td>\n",
       "    </tr>\n",
       "    <tr>\n",
       "      <td>2</td>\n",
       "      <td>1000</td>\n",
       "      <td>2018-07</td>\n",
       "      <td>1950.000000</td>\n",
       "    </tr>\n",
       "    <tr>\n",
       "      <td>3</td>\n",
       "      <td>1000</td>\n",
       "      <td>2018-08</td>\n",
       "      <td>1950.000000</td>\n",
       "    </tr>\n",
       "    <tr>\n",
       "      <td>4</td>\n",
       "      <td>1000</td>\n",
       "      <td>2018-09</td>\n",
       "      <td>1950.000000</td>\n",
       "    </tr>\n",
       "    <tr>\n",
       "      <td>...</td>\n",
       "      <td>...</td>\n",
       "      <td>...</td>\n",
       "      <td>...</td>\n",
       "    </tr>\n",
       "    <tr>\n",
       "      <td>3209</td>\n",
       "      <td>1498</td>\n",
       "      <td>2018-10</td>\n",
       "      <td>1574.218750</td>\n",
       "    </tr>\n",
       "    <tr>\n",
       "      <td>3210</td>\n",
       "      <td>1499</td>\n",
       "      <td>2018-09</td>\n",
       "      <td>550.000000</td>\n",
       "    </tr>\n",
       "    <tr>\n",
       "      <td>3211</td>\n",
       "      <td>1499</td>\n",
       "      <td>2018-10</td>\n",
       "      <td>1028.320312</td>\n",
       "    </tr>\n",
       "    <tr>\n",
       "      <td>3212</td>\n",
       "      <td>1499</td>\n",
       "      <td>2018-11</td>\n",
       "      <td>1425.500000</td>\n",
       "    </tr>\n",
       "    <tr>\n",
       "      <td>3213</td>\n",
       "      <td>1499</td>\n",
       "      <td>2018-12</td>\n",
       "      <td>598.000000</td>\n",
       "    </tr>\n",
       "  </tbody>\n",
       "</table>\n",
       "<p>3214 rows × 3 columns</p>\n",
       "</div>"
      ],
      "text/plain": [
       "      user_id month_year  total_money\n",
       "0        1000    2018-05  1950.000000\n",
       "1        1000    2018-06  1950.000000\n",
       "2        1000    2018-07  1950.000000\n",
       "3        1000    2018-08  1950.000000\n",
       "4        1000    2018-09  1950.000000\n",
       "...       ...        ...          ...\n",
       "3209     1498    2018-10  1574.218750\n",
       "3210     1499    2018-09   550.000000\n",
       "3211     1499    2018-10  1028.320312\n",
       "3212     1499    2018-11  1425.500000\n",
       "3213     1499    2018-12   598.000000\n",
       "\n",
       "[3214 rows x 3 columns]"
      ]
     },
     "execution_count": 78,
     "metadata": {},
     "output_type": "execute_result"
    }
   ],
   "source": [
    "multi[['user_id', 'month_year', 'total_money']]"
   ]
  },
  {
   "cell_type": "code",
   "execution_count": 79,
   "metadata": {},
   "outputs": [
    {
     "data": {
      "text/plain": [
       "Text(0, 0.5, 'user_id')"
      ]
     },
     "execution_count": 79,
     "metadata": {},
     "output_type": "execute_result"
    },
    {
     "data": {
      "image/png": "[encoded data removed]",
      "text/plain": [
       "<Figure size 432x288 with 1 Axes>"
      ]
     },
     "metadata": {
      "needs_background": "light"
     },
     "output_type": "display_data"
    }
   ],
   "source": [
    "multi['total_money'].hist(bins=50, range=(400,4000))\n",
    "plt.title('Распределение количества пользователей в зависимости от выручки')\n",
    "plt.xlabel('sum_total_money')\n",
    "plt.ylabel('user_id')"
   ]
  },
  {
   "cell_type": "code",
   "execution_count": 80,
   "metadata": {},
   "outputs": [
    {
     "data": {
      "text/html": [
       "<div>\n",
       "<style scoped>\n",
       "    .dataframe tbody tr th:only-of-type {\n",
       "        vertical-align: middle;\n",
       "    }\n",
       "\n",
       "    .dataframe tbody tr th {\n",
       "        vertical-align: top;\n",
       "    }\n",
       "\n",
       "    .dataframe thead tr th {\n",
       "        text-align: left;\n",
       "    }\n",
       "\n",
       "    .dataframe thead tr:last-of-type th {\n",
       "        text-align: right;\n",
       "    }\n",
       "</style>\n",
       "<table border=\"1\" class=\"dataframe\">\n",
       "  <thead>\n",
       "    <tr>\n",
       "      <th></th>\n",
       "      <th>sum</th>\n",
       "    </tr>\n",
       "    <tr>\n",
       "      <th></th>\n",
       "      <th>total_money</th>\n",
       "    </tr>\n",
       "    <tr>\n",
       "      <th>tariff</th>\n",
       "      <th></th>\n",
       "    </tr>\n",
       "  </thead>\n",
       "  <tbody>\n",
       "    <tr>\n",
       "      <td>smart</td>\n",
       "      <td>2.749136e+06</td>\n",
       "    </tr>\n",
       "    <tr>\n",
       "      <td>ultra</td>\n",
       "      <td>2.029622e+06</td>\n",
       "    </tr>\n",
       "  </tbody>\n",
       "</table>\n",
       "</div>"
      ],
      "text/plain": [
       "                 sum\n",
       "         total_money\n",
       "tariff              \n",
       "smart   2.749136e+06\n",
       "ultra   2.029622e+06"
      ]
     },
     "execution_count": 80,
     "metadata": {},
     "output_type": "execute_result"
    }
   ],
   "source": [
    "#посмотрим для себя суммарную выручку по тарифам\n",
    "money_of_tarif = multi.pivot_table(\n",
    "    index=['tariff'],\n",
    "    values='total_money',\n",
    "    aggfunc=['sum']\n",
    ")\n",
    "money_of_tarif.head()"
   ]
  },
  {
   "cell_type": "code",
   "execution_count": 81,
   "metadata": {},
   "outputs": [
    {
     "data": {
      "text/plain": [
       "array([<matplotlib.axes._subplots.AxesSubplot object at 0x7f7c64cb3390>],\n",
       "      dtype=object)"
      ]
     },
     "execution_count": 81,
     "metadata": {},
     "output_type": "execute_result"
    },
    {
     "data": {
      "image/png": "[encoded data removed]",
      "text/plain": [
       "<Figure size 576x576 with 1 Axes>"
      ]
     },
     "metadata": {},
     "output_type": "display_data"
    }
   ],
   "source": [
    "money_of_tarif.plot(subplots=True, kind='pie', autopct='%1.1f%%', figsize=(8, 8)) "
   ]
  },
  {
   "cell_type": "markdown",
   "metadata": {},
   "source": [
    "#### Вывод:  \n",
    "Из графика видно, 2 больших максимума: это и есть наши абонентские платы 550 и 1950 руб. Достаточно большое распределение есть и в интервале от 550 и 1950, и уже меньше от 1950. Можем предположить, что это выручка от доп.услуг пользователей, то есть перерасход услуг, включенных в тарифы.  \n",
    "Из сводной таблицы видно, что тариф Smart приносит почти в 1.5 раза больше выручки.\n",
    "\n"
   ]
  },
  {
   "cell_type": "markdown",
   "metadata": {},
   "source": [
    "<a id=\"3\"></a>  \n",
    "## Шаг 3. Анализ данных"
   ]
  },
  {
   "cell_type": "markdown",
   "metadata": {},
   "source": [
    "### Сколько минут разговора, сколько сообщений и какой объём интернет-трафика требуется пользователям каждого тарифа в месяц?"
   ]
  },
  {
   "cell_type": "code",
   "execution_count": 82,
   "metadata": {},
   "outputs": [
    {
     "data": {
      "text/html": [
       "<div>\n",
       "<style scoped>\n",
       "    .dataframe tbody tr th:only-of-type {\n",
       "        vertical-align: middle;\n",
       "    }\n",
       "\n",
       "    .dataframe tbody tr th {\n",
       "        vertical-align: top;\n",
       "    }\n",
       "\n",
       "    .dataframe thead th {\n",
       "        text-align: right;\n",
       "    }\n",
       "</style>\n",
       "<table border=\"1\" class=\"dataframe\">\n",
       "  <thead>\n",
       "    <tr style=\"text-align: right;\">\n",
       "      <th>tariff</th>\n",
       "      <th>smart</th>\n",
       "      <th>ultra</th>\n",
       "    </tr>\n",
       "    <tr>\n",
       "      <th>month_year</th>\n",
       "      <th></th>\n",
       "      <th></th>\n",
       "    </tr>\n",
       "  </thead>\n",
       "  <tbody>\n",
       "    <tr>\n",
       "      <td>2018-01</td>\n",
       "      <td>203.852941</td>\n",
       "      <td>428.111111</td>\n",
       "    </tr>\n",
       "    <tr>\n",
       "      <td>2018-02</td>\n",
       "      <td>298.689655</td>\n",
       "      <td>297.125000</td>\n",
       "    </tr>\n",
       "    <tr>\n",
       "      <td>2018-03</td>\n",
       "      <td>390.051948</td>\n",
       "      <td>489.648649</td>\n",
       "    </tr>\n",
       "    <tr>\n",
       "      <td>2018-04</td>\n",
       "      <td>367.133929</td>\n",
       "      <td>458.018182</td>\n",
       "    </tr>\n",
       "    <tr>\n",
       "      <td>2018-05</td>\n",
       "      <td>387.361702</td>\n",
       "      <td>510.328358</td>\n",
       "    </tr>\n",
       "    <tr>\n",
       "      <td>2018-06</td>\n",
       "      <td>395.640244</td>\n",
       "      <td>479.702381</td>\n",
       "    </tr>\n",
       "    <tr>\n",
       "      <td>2018-07</td>\n",
       "      <td>408.353234</td>\n",
       "      <td>545.791209</td>\n",
       "    </tr>\n",
       "    <tr>\n",
       "      <td>2018-08</td>\n",
       "      <td>421.468085</td>\n",
       "      <td>510.775701</td>\n",
       "    </tr>\n",
       "    <tr>\n",
       "      <td>2018-09</td>\n",
       "      <td>428.611538</td>\n",
       "      <td>539.443478</td>\n",
       "    </tr>\n",
       "    <tr>\n",
       "      <td>2018-10</td>\n",
       "      <td>426.136054</td>\n",
       "      <td>558.081301</td>\n",
       "    </tr>\n",
       "    <tr>\n",
       "      <td>2018-11</td>\n",
       "      <td>435.265823</td>\n",
       "      <td>541.380597</td>\n",
       "    </tr>\n",
       "    <tr>\n",
       "      <td>2018-12</td>\n",
       "      <td>478.560831</td>\n",
       "      <td>592.805755</td>\n",
       "    </tr>\n",
       "  </tbody>\n",
       "</table>\n",
       "</div>"
      ],
      "text/plain": [
       "tariff           smart       ultra\n",
       "month_year                        \n",
       "2018-01     203.852941  428.111111\n",
       "2018-02     298.689655  297.125000\n",
       "2018-03     390.051948  489.648649\n",
       "2018-04     367.133929  458.018182\n",
       "2018-05     387.361702  510.328358\n",
       "2018-06     395.640244  479.702381\n",
       "2018-07     408.353234  545.791209\n",
       "2018-08     421.468085  510.775701\n",
       "2018-09     428.611538  539.443478\n",
       "2018-10     426.136054  558.081301\n",
       "2018-11     435.265823  541.380597\n",
       "2018-12     478.560831  592.805755"
      ]
     },
     "execution_count": 82,
     "metadata": {},
     "output_type": "execute_result"
    }
   ],
   "source": [
    "#длительность звонков по тарифам и по месяцам\n",
    "multi.pivot_table(index = 'month_year', values = 'minutes', columns = 'tariff', )"
   ]
  },
  {
   "cell_type": "code",
   "execution_count": 83,
   "metadata": {},
   "outputs": [
    {
     "data": {
      "text/plain": [
       "<matplotlib.lines.Line2D at 0x7f7c64d39e10>"
      ]
     },
     "execution_count": 83,
     "metadata": {},
     "output_type": "execute_result"
    },
    {
     "data": {
      "image/png": "[encoded data removed]",
      "text/plain": [
       "<Figure size 432x288 with 1 Axes>"
      ]
     },
     "metadata": {
      "needs_background": "light"
     },
     "output_type": "display_data"
    }
   ],
   "source": [
    "#строим график длительности звонков по тарифам и по месяцам\n",
    "multi.pivot_table(index = 'month_year', values = 'minutes',columns = 'tariff').plot(kind = 'bar', title = 'Распределение пользователей в засисимости от длительности разговора по месяцам')\n",
    "plt.axhline(3000, color = 'orange', linestyle = '--')\n",
    "plt.axhline(500, color = 'blue', linestyle = '--')"
   ]
  },
  {
   "cell_type": "code",
   "execution_count": 84,
   "metadata": {},
   "outputs": [
    {
     "data": {
      "text/html": [
       "<div>\n",
       "<style scoped>\n",
       "    .dataframe tbody tr th:only-of-type {\n",
       "        vertical-align: middle;\n",
       "    }\n",
       "\n",
       "    .dataframe tbody tr th {\n",
       "        vertical-align: top;\n",
       "    }\n",
       "\n",
       "    .dataframe thead th {\n",
       "        text-align: right;\n",
       "    }\n",
       "</style>\n",
       "<table border=\"1\" class=\"dataframe\">\n",
       "  <thead>\n",
       "    <tr style=\"text-align: right;\">\n",
       "      <th>tariff</th>\n",
       "      <th>smart</th>\n",
       "      <th>ultra</th>\n",
       "    </tr>\n",
       "    <tr>\n",
       "      <th>month_year</th>\n",
       "      <th></th>\n",
       "      <th></th>\n",
       "    </tr>\n",
       "  </thead>\n",
       "  <tbody>\n",
       "    <tr>\n",
       "      <td>2018-01</td>\n",
       "      <td>18.235294</td>\n",
       "      <td>33.777778</td>\n",
       "    </tr>\n",
       "    <tr>\n",
       "      <td>2018-02</td>\n",
       "      <td>24.086207</td>\n",
       "      <td>21.958333</td>\n",
       "    </tr>\n",
       "    <tr>\n",
       "      <td>2018-03</td>\n",
       "      <td>31.857143</td>\n",
       "      <td>32.297297</td>\n",
       "    </tr>\n",
       "    <tr>\n",
       "      <td>2018-04</td>\n",
       "      <td>30.741071</td>\n",
       "      <td>31.563636</td>\n",
       "    </tr>\n",
       "    <tr>\n",
       "      <td>2018-05</td>\n",
       "      <td>33.773050</td>\n",
       "      <td>37.850746</td>\n",
       "    </tr>\n",
       "    <tr>\n",
       "      <td>2018-06</td>\n",
       "      <td>33.402439</td>\n",
       "      <td>41.726190</td>\n",
       "    </tr>\n",
       "    <tr>\n",
       "      <td>2018-07</td>\n",
       "      <td>33.751244</td>\n",
       "      <td>49.846154</td>\n",
       "    </tr>\n",
       "    <tr>\n",
       "      <td>2018-08</td>\n",
       "      <td>33.638298</td>\n",
       "      <td>48.439252</td>\n",
       "    </tr>\n",
       "    <tr>\n",
       "      <td>2018-09</td>\n",
       "      <td>33.638462</td>\n",
       "      <td>52.286957</td>\n",
       "    </tr>\n",
       "    <tr>\n",
       "      <td>2018-10</td>\n",
       "      <td>33.765306</td>\n",
       "      <td>58.430894</td>\n",
       "    </tr>\n",
       "    <tr>\n",
       "      <td>2018-11</td>\n",
       "      <td>34.075949</td>\n",
       "      <td>55.791045</td>\n",
       "    </tr>\n",
       "    <tr>\n",
       "      <td>2018-12</td>\n",
       "      <td>35.994065</td>\n",
       "      <td>60.611511</td>\n",
       "    </tr>\n",
       "  </tbody>\n",
       "</table>\n",
       "</div>"
      ],
      "text/plain": [
       "tariff          smart      ultra\n",
       "month_year                      \n",
       "2018-01     18.235294  33.777778\n",
       "2018-02     24.086207  21.958333\n",
       "2018-03     31.857143  32.297297\n",
       "2018-04     30.741071  31.563636\n",
       "2018-05     33.773050  37.850746\n",
       "2018-06     33.402439  41.726190\n",
       "2018-07     33.751244  49.846154\n",
       "2018-08     33.638298  48.439252\n",
       "2018-09     33.638462  52.286957\n",
       "2018-10     33.765306  58.430894\n",
       "2018-11     34.075949  55.791045\n",
       "2018-12     35.994065  60.611511"
      ]
     },
     "execution_count": 84,
     "metadata": {},
     "output_type": "execute_result"
    }
   ],
   "source": [
    "#количество отправленных сообщений по тарифам и по месяцам\n",
    "multi.pivot_table(index = 'month_year', columns = 'tariff', values = 'messages')\n"
   ]
  },
  {
   "cell_type": "code",
   "execution_count": 85,
   "metadata": {},
   "outputs": [
    {
     "data": {
      "text/plain": [
       "<matplotlib.lines.Line2D at 0x7f7c64e59f50>"
      ]
     },
     "execution_count": 85,
     "metadata": {},
     "output_type": "execute_result"
    },
    {
     "data": {
      "image/png": "[encoded data removed]",
      "text/plain": [
       "<Figure size 432x288 with 1 Axes>"
      ]
     },
     "metadata": {
      "needs_background": "light"
     },
     "output_type": "display_data"
    }
   ],
   "source": [
    "#строим график длительности звонков по тарифам и по месяцам\n",
    "multi.pivot_table(index = 'month_year', columns = 'tariff', values = 'messages').plot(kind = 'bar', title = 'Распределение пользователей в засисимости от кол-ва сообщений по месяцам')\n",
    "plt.axhline(1000, color = 'orange', linestyle = '--')\n",
    "plt.axhline(50, color = 'blue', linestyle = '--')"
   ]
  },
  {
   "cell_type": "code",
   "execution_count": 86,
   "metadata": {},
   "outputs": [
    {
     "data": {
      "text/html": [
       "<div>\n",
       "<style scoped>\n",
       "    .dataframe tbody tr th:only-of-type {\n",
       "        vertical-align: middle;\n",
       "    }\n",
       "\n",
       "    .dataframe tbody tr th {\n",
       "        vertical-align: top;\n",
       "    }\n",
       "\n",
       "    .dataframe thead th {\n",
       "        text-align: right;\n",
       "    }\n",
       "</style>\n",
       "<table border=\"1\" class=\"dataframe\">\n",
       "  <thead>\n",
       "    <tr style=\"text-align: right;\">\n",
       "      <th>tariff</th>\n",
       "      <th>smart</th>\n",
       "      <th>ultra</th>\n",
       "    </tr>\n",
       "    <tr>\n",
       "      <th>month_year</th>\n",
       "      <th></th>\n",
       "      <th></th>\n",
       "    </tr>\n",
       "  </thead>\n",
       "  <tbody>\n",
       "    <tr>\n",
       "      <td>2018-01</td>\n",
       "      <td>8524.441176</td>\n",
       "      <td>13153.555556</td>\n",
       "    </tr>\n",
       "    <tr>\n",
       "      <td>2018-02</td>\n",
       "      <td>11611.396552</td>\n",
       "      <td>11786.958333</td>\n",
       "    </tr>\n",
       "    <tr>\n",
       "      <td>2018-03</td>\n",
       "      <td>15123.857143</td>\n",
       "      <td>17551.972973</td>\n",
       "    </tr>\n",
       "    <tr>\n",
       "      <td>2018-04</td>\n",
       "      <td>13479.482143</td>\n",
       "      <td>16843.800000</td>\n",
       "    </tr>\n",
       "    <tr>\n",
       "      <td>2018-05</td>\n",
       "      <td>15825.198582</td>\n",
       "      <td>19381.194030</td>\n",
       "    </tr>\n",
       "    <tr>\n",
       "      <td>2018-06</td>\n",
       "      <td>15814.768293</td>\n",
       "      <td>18942.238095</td>\n",
       "    </tr>\n",
       "    <tr>\n",
       "      <td>2018-07</td>\n",
       "      <td>15763.512438</td>\n",
       "      <td>20514.648352</td>\n",
       "    </tr>\n",
       "    <tr>\n",
       "      <td>2018-08</td>\n",
       "      <td>16632.174468</td>\n",
       "      <td>19594.065421</td>\n",
       "    </tr>\n",
       "    <tr>\n",
       "      <td>2018-09</td>\n",
       "      <td>16324.526923</td>\n",
       "      <td>19222.208696</td>\n",
       "    </tr>\n",
       "    <tr>\n",
       "      <td>2018-10</td>\n",
       "      <td>16778.564626</td>\n",
       "      <td>20063.869919</td>\n",
       "    </tr>\n",
       "    <tr>\n",
       "      <td>2018-11</td>\n",
       "      <td>16917.531646</td>\n",
       "      <td>19805.313433</td>\n",
       "    </tr>\n",
       "    <tr>\n",
       "      <td>2018-12</td>\n",
       "      <td>18136.833828</td>\n",
       "      <td>21813.589928</td>\n",
       "    </tr>\n",
       "  </tbody>\n",
       "</table>\n",
       "</div>"
      ],
      "text/plain": [
       "tariff             smart         ultra\n",
       "month_year                            \n",
       "2018-01      8524.441176  13153.555556\n",
       "2018-02     11611.396552  11786.958333\n",
       "2018-03     15123.857143  17551.972973\n",
       "2018-04     13479.482143  16843.800000\n",
       "2018-05     15825.198582  19381.194030\n",
       "2018-06     15814.768293  18942.238095\n",
       "2018-07     15763.512438  20514.648352\n",
       "2018-08     16632.174468  19594.065421\n",
       "2018-09     16324.526923  19222.208696\n",
       "2018-10     16778.564626  20063.869919\n",
       "2018-11     16917.531646  19805.313433\n",
       "2018-12     18136.833828  21813.589928"
      ]
     },
     "execution_count": 86,
     "metadata": {},
     "output_type": "execute_result"
    }
   ],
   "source": [
    "#использованный трафик по тарифам и по месяцам\n",
    "multi.pivot_table(index = 'month_year', columns = 'tariff', values = 'mb')"
   ]
  },
  {
   "cell_type": "code",
   "execution_count": 87,
   "metadata": {},
   "outputs": [
    {
     "data": {
      "text/plain": [
       "<matplotlib.lines.Line2D at 0x7f7c64cf9110>"
      ]
     },
     "execution_count": 87,
     "metadata": {},
     "output_type": "execute_result"
    },
    {
     "data": {
      "image/png": "[encoded data removed]",
      "text/plain": [
       "<Figure size 432x288 with 1 Axes>"
      ]
     },
     "metadata": {
      "needs_background": "light"
     },
     "output_type": "display_data"
    }
   ],
   "source": [
    "multi.pivot_table(index = 'month_year', columns = 'tariff', values = 'mb').plot(kind = 'bar', title = 'Распределение пользователей в засисимости от интернет-трафика по месяцам')\n",
    "plt.axhline(30000, color = 'orange', linestyle = '--')\n",
    "plt.axhline(15000, color = 'blue', linestyle = '--')"
   ]
  },
  {
   "cell_type": "markdown",
   "metadata": {},
   "source": [
    "####  Вывод:  \n",
    "***Телефония:***  \n",
    "    Пользователи тарифа \"Смарт\" используют минуты почти полностью, а иногда даже и перерасходуют бесплатный трафик.  \n",
    "    Пользователи тарифа \"Ультра\" пользуются минутами экономно и вписываются в свой лимит и даже остается большой запас.  \n",
    "***Сообщения:***  \n",
    "    Пользователи обоих тарифов не активно пользуются отправкой сообщений.  \n",
    "    \n",
    "***Трафик:***  \n",
    "    Пользователи тарифа \"Смарт\" чаще всего выходят за рамки бесплатного трафика.  \n",
    "    Пользователи тарифа \"Ультра\" укладываются в рамки бесплатного трафика.\n",
    "    \n",
    "Активность пользования услугами плавно растет из месяца в месяц, а так же ежемесячно растет и кол-во подключившихся абонентов. \n",
    "    "
   ]
  },
  {
   "cell_type": "markdown",
   "metadata": {},
   "source": [
    "### Cреднее количество, дисперсия и стандартное отклонение"
   ]
  },
  {
   "cell_type": "code",
   "execution_count": 88,
   "metadata": {},
   "outputs": [
    {
     "data": {
      "text/html": [
       "<div>\n",
       "<style scoped>\n",
       "    .dataframe tbody tr th:only-of-type {\n",
       "        vertical-align: middle;\n",
       "    }\n",
       "\n",
       "    .dataframe tbody tr th {\n",
       "        vertical-align: top;\n",
       "    }\n",
       "\n",
       "    .dataframe thead tr th {\n",
       "        text-align: left;\n",
       "    }\n",
       "\n",
       "    .dataframe thead tr:last-of-type th {\n",
       "        text-align: right;\n",
       "    }\n",
       "</style>\n",
       "<table border=\"1\" class=\"dataframe\">\n",
       "  <thead>\n",
       "    <tr>\n",
       "      <th></th>\n",
       "      <th colspan=\"3\" halign=\"left\">mean</th>\n",
       "      <th colspan=\"3\" halign=\"left\">var</th>\n",
       "      <th colspan=\"3\" halign=\"left\">std</th>\n",
       "    </tr>\n",
       "    <tr>\n",
       "      <th></th>\n",
       "      <th>mb</th>\n",
       "      <th>messages</th>\n",
       "      <th>minutes</th>\n",
       "      <th>mb</th>\n",
       "      <th>messages</th>\n",
       "      <th>minutes</th>\n",
       "      <th>mb</th>\n",
       "      <th>messages</th>\n",
       "      <th>minutes</th>\n",
       "    </tr>\n",
       "    <tr>\n",
       "      <th>tariff</th>\n",
       "      <th></th>\n",
       "      <th></th>\n",
       "      <th></th>\n",
       "      <th></th>\n",
       "      <th></th>\n",
       "      <th></th>\n",
       "      <th></th>\n",
       "      <th></th>\n",
       "      <th></th>\n",
       "    </tr>\n",
       "  </thead>\n",
       "  <tbody>\n",
       "    <tr>\n",
       "      <td>smart</td>\n",
       "      <td>16229.188425</td>\n",
       "      <td>33.384029</td>\n",
       "      <td>417.934948</td>\n",
       "      <td>3.454591e+07</td>\n",
       "      <td>796.812958</td>\n",
       "      <td>36219.315784</td>\n",
       "      <td>5877.576978</td>\n",
       "      <td>28.227876</td>\n",
       "      <td>190.313730</td>\n",
       "    </tr>\n",
       "    <tr>\n",
       "      <td>ultra</td>\n",
       "      <td>19486.901523</td>\n",
       "      <td>49.363452</td>\n",
       "      <td>526.623350</td>\n",
       "      <td>1.019356e+08</td>\n",
       "      <td>2285.266143</td>\n",
       "      <td>100873.633397</td>\n",
       "      <td>10096.317202</td>\n",
       "      <td>47.804457</td>\n",
       "      <td>317.606098</td>\n",
       "    </tr>\n",
       "  </tbody>\n",
       "</table>\n",
       "</div>"
      ],
      "text/plain": [
       "                mean                                  var               \\\n",
       "                  mb   messages     minutes            mb     messages   \n",
       "tariff                                                                   \n",
       "smart   16229.188425  33.384029  417.934948  3.454591e+07   796.812958   \n",
       "ultra   19486.901523  49.363452  526.623350  1.019356e+08  2285.266143   \n",
       "\n",
       "                                std                         \n",
       "              minutes            mb   messages     minutes  \n",
       "tariff                                                      \n",
       "smart    36219.315784   5877.576978  28.227876  190.313730  \n",
       "ultra   100873.633397  10096.317202  47.804457  317.606098  "
      ]
     },
     "execution_count": 88,
     "metadata": {},
     "output_type": "execute_result"
    }
   ],
   "source": [
    "multi.pivot_table(index = 'tariff', values = ['minutes', 'messages', 'mb'], aggfunc = ['mean', 'var','std'])"
   ]
  },
  {
   "cell_type": "code",
   "execution_count": 89,
   "metadata": {},
   "outputs": [
    {
     "data": {
      "text/plain": [
       "<matplotlib.axes._subplots.AxesSubplot at 0x7f7c64a49890>"
      ]
     },
     "execution_count": 89,
     "metadata": {},
     "output_type": "execute_result"
    },
    {
     "data": {
      "image/png": "[encoded data removed]",
      "text/plain": [
       "<Figure size 432x288 with 1 Axes>"
      ]
     },
     "metadata": {
      "needs_background": "light"
     },
     "output_type": "display_data"
    }
   ],
   "source": [
    "#построим гисторгаммы для 2 тарифов - телефония\n",
    "\n",
    "ax=multi[multi['tariff'] == 'ultra'].plot(kind='hist', y='minutes', bins=100, alpha=0.7, label='ultra')\n",
    "multi[multi['tariff'] == 'smart'].plot(kind='hist', y='minutes', bins=100, alpha=0.7, label='smart', ax=ax, grid=True, title='Распределение пользователей в засисимости от длительности разговора')"
   ]
  },
  {
   "cell_type": "code",
   "execution_count": 90,
   "metadata": {},
   "outputs": [
    {
     "data": {
      "text/plain": [
       "<matplotlib.axes._subplots.AxesSubplot at 0x7f7c6482c110>"
      ]
     },
     "execution_count": 90,
     "metadata": {},
     "output_type": "execute_result"
    },
    {
     "data": {
      "image/png": "[encoded data removed]",
      "text/plain": [
       "<Figure size 432x288 with 1 Axes>"
      ]
     },
     "metadata": {
      "needs_background": "light"
     },
     "output_type": "display_data"
    }
   ],
   "source": [
    "#построим гисторгаммы для 2 тарифов - сообщения\n",
    "\n",
    "ax=multi[multi['tariff'] == 'ultra'].plot(kind='hist', y='messages', bins=50, alpha=0.7, label='ultra')\n",
    "multi[multi['tariff'] == 'smart'].plot(kind='hist', y='messages', bins=50, alpha=0.7, label='smart', ax=ax, grid=True, title='Распределение пользователей в засисимости от кол-ва сообщений')"
   ]
  },
  {
   "cell_type": "code",
   "execution_count": 91,
   "metadata": {},
   "outputs": [
    {
     "data": {
      "text/plain": [
       "<matplotlib.axes._subplots.AxesSubplot at 0x7f7c64a31850>"
      ]
     },
     "execution_count": 91,
     "metadata": {},
     "output_type": "execute_result"
    },
    {
     "data": {
      "image/png": "[encoded data removed]",
      "text/plain": [
       "<Figure size 432x288 with 1 Axes>"
      ]
     },
     "metadata": {
      "needs_background": "light"
     },
     "output_type": "display_data"
    }
   ],
   "source": [
    "#построим гисторгаммы для 2 тарифов - трафик\n",
    "\n",
    "ax=multi[multi['tariff'] == 'ultra'].plot(kind='hist', y='mb', bins=100, alpha=0.7, label='ultra')\n",
    "multi[multi['tariff'] == 'smart'].plot(kind='hist', y='mb', bins=100, alpha=0.7, label='smart', ax=ax, grid=True, title='Распределение пользователей в засисимости от интернет-трафика')"
   ]
  },
  {
   "cell_type": "markdown",
   "metadata": {},
   "source": [
    "####  Вывод:  \n",
    "***Телефония:***  \n",
    "    Пользователи тарифа \"Смарт\" - среднее значение 417, максимум 500 минут. Самое ТО!   \n",
    "    Пользователи тарифа \"Ультра\" - среднее почти в 6 раз меньше максимального значения. Большой запас.\n",
    "    \n",
    "    \n",
    "***Сообщения:***  \n",
    "      Пользователи обоих тарифов слабо пользуются сообщениями.\n",
    "    \n",
    "***Трафик:***  \n",
    "    Тут только у тарифа \"Смарт\" среднее значение почти на 1 Гб больше трафика установленного в пакете.\n",
    "    Пользователи тарифа \"Ультра\" укладываются в предел значений.  \n",
    "    \n",
    "Разброс значений по всем услугам связи у тарифа \"Ультра\" примерно в 2 раза больше, чем у \"Смарт\", а дисперсия соответственно примерно в 4.  \n",
    "    \n",
    " "
   ]
  },
  {
   "cell_type": "markdown",
   "metadata": {},
   "source": [
    "<a id=\"4\"></a>\n",
    "## Шаг 4. Проверка гипотезы"
   ]
  },
  {
   "cell_type": "markdown",
   "metadata": {},
   "source": [
    "### Различие средней выручки пользователей тарифов «Ультра» и «Смарт»"
   ]
  },
  {
   "cell_type": "code",
   "execution_count": 92,
   "metadata": {},
   "outputs": [],
   "source": [
    "#выберем всю выручку по всем абонентам по тарифу Ультра\n",
    "ultra_money = multi[multi['tariff'] == 'ultra']['total_money'] \n",
    "#выберем всю выручку по всем абонентам по тарифу Смарт\n",
    "smart_money = multi[multi['tariff'] == 'smart']['total_money'] "
   ]
  },
  {
   "cell_type": "code",
   "execution_count": 93,
   "metadata": {},
   "outputs": [
    {
     "data": {
      "text/plain": [
       "count     985.000000\n",
       "mean     2060.529971\n",
       "std       356.305046\n",
       "min      1950.000000\n",
       "25%      1950.000000\n",
       "50%      1950.000000\n",
       "75%      1950.000000\n",
       "max      4743.310547\n",
       "Name: total_money, dtype: float64"
      ]
     },
     "execution_count": 93,
     "metadata": {},
     "output_type": "execute_result"
    }
   ],
   "source": [
    "#посмотрим выборку по тарифу Ультра\n",
    "ultra_money.describe()"
   ]
  },
  {
   "cell_type": "code",
   "execution_count": 94,
   "metadata": {},
   "outputs": [
    {
     "data": {
      "text/plain": [
       "count    2229.000000\n",
       "mean     1233.349467\n",
       "std       787.688141\n",
       "min       550.000000\n",
       "25%       550.000000\n",
       "50%       959.898438\n",
       "75%      1668.117188\n",
       "max      6711.015625\n",
       "Name: total_money, dtype: float64"
      ]
     },
     "execution_count": 94,
     "metadata": {},
     "output_type": "execute_result"
    }
   ],
   "source": [
    "#посмотрим выборку по тарифу Смарт\n",
    "smart_money.describe()"
   ]
  },
  {
   "cell_type": "markdown",
   "metadata": {},
   "source": [
    "Гипотеза H₀ будет звучать так \"средняя выручка пользователей тарифов «Ультра» и «Смарт» ***не отличаются***, то есть одинаковы!\" Исходя из H₀ формулируется альтернативная гипотеза H₁. Для этой H₀ она звучит как «средняя выручка пользователей тарифов «Ультра» и «Смарт» ***отличаются***»."
   ]
  },
  {
   "cell_type": "code",
   "execution_count": 95,
   "metadata": {},
   "outputs": [
    {
     "name": "stdout",
     "output_type": "stream",
     "text": [
      "p-значение: 8.931402711366754e-296\n",
      "Отвергаем нулевую гипотезу\n"
     ]
    }
   ],
   "source": [
    "alpha = .05 # критический уровень статистической значимости (если p-value окажется меньше него - отвергнем гипотезу)\n",
    "\n",
    "results = st.ttest_ind(\n",
    "    ultra_money, \n",
    "    smart_money,\n",
    "    equal_var = False) \n",
    "\n",
    "print('p-значение:', results.pvalue)\n",
    "\n",
    "if (results.pvalue < alpha):\n",
    "    print(\"Отвергаем нулевую гипотезу\")\n",
    "else:\n",
    "    print(\"Не получилось отвергнуть нулевую гипотезу\")"
   ]
  },
  {
   "cell_type": "markdown",
   "metadata": {},
   "source": [
    "#### Вывод:  \n",
    "Если мы отвергли нулевую гипотезу, то это означает, что НЕТ правдивости гипотезы \"Средняя выручка пользователей тарифов «Ультра» и «Смарт» не отличаются!\", то есть не одинаковы! имеет место быть альтернативная гипотеза - отличаются!"
   ]
  },
  {
   "cell_type": "markdown",
   "metadata": {},
   "source": [
    "### Cредняя выручка пользователей из Москвы отличается от выручки пользователей из других регионов"
   ]
  },
  {
   "cell_type": "code",
   "execution_count": 96,
   "metadata": {},
   "outputs": [],
   "source": [
    "#выберем всю выручку по всем абонентам по региону Москва\n",
    "moscow_money = multi[multi['city'] == 'Москва']['total_money']\n",
    "#выберем всю выручку по всем абонентам по всем остальным регионам\n",
    "region_money = multi[multi['city'] != 'Москва']['total_money'] "
   ]
  },
  {
   "cell_type": "code",
   "execution_count": 97,
   "metadata": {},
   "outputs": [
    {
     "data": {
      "text/plain": [
       "count     611.000000\n",
       "mean     1507.276762\n",
       "std       739.758575\n",
       "min       550.000000\n",
       "25%       733.394531\n",
       "50%      1704.632812\n",
       "75%      1950.000000\n",
       "max      5186.429688\n",
       "Name: total_money, dtype: float64"
      ]
     },
     "execution_count": 97,
     "metadata": {},
     "output_type": "execute_result"
    }
   ],
   "source": [
    "moscow_money.describe()"
   ]
  },
  {
   "cell_type": "code",
   "execution_count": 98,
   "metadata": {},
   "outputs": [
    {
     "data": {
      "text/plain": [
       "count    2603.000000\n",
       "mean     1482.063727\n",
       "std       794.042728\n",
       "min       550.000000\n",
       "25%       690.234375\n",
       "50%      1518.078125\n",
       "75%      1950.000000\n",
       "max      6711.015625\n",
       "Name: total_money, dtype: float64"
      ]
     },
     "execution_count": 98,
     "metadata": {},
     "output_type": "execute_result"
    }
   ],
   "source": [
    "region_money.describe()"
   ]
  },
  {
   "cell_type": "markdown",
   "metadata": {},
   "source": [
    "Гипотеза H0 будет звучать так: Cредняя выручка пользователей из Москвы от выручки пользователей из других регионов ***не отличается***, то есть одинаковы выручки! Альтернативная - \"Cредняя выручка пользователей из Москвы от выручки пользователей из других регионов ***отличается***, то есть не одинаковы выручки\""
   ]
  },
  {
   "cell_type": "code",
   "execution_count": 99,
   "metadata": {},
   "outputs": [
    {
     "name": "stdout",
     "output_type": "stream",
     "text": [
      "p-значение: 0.4549775646471024\n",
      "Не получилось отвергнуть нулевую гипотезу\n"
     ]
    }
   ],
   "source": [
    "alpha = .05 # критический уровень статистической значимости (объем выборки болше 100 - 2176 и 491 соответственно)\n",
    "            # если p-value окажется меньше него - отвергнем гипотезу\n",
    "\n",
    "results = st.ttest_ind(\n",
    "    moscow_money, \n",
    "    region_money,\n",
    "    equal_var = False) #стандартное отклонение отличается\n",
    "\n",
    "print('p-значение:', results.pvalue)\n",
    "\n",
    "if (results.pvalue < alpha):\n",
    "    print(\"Отвергаем нулевую гипотезу\")\n",
    "else:\n",
    "    print(\"Не получилось отвергнуть нулевую гипотезу\")"
   ]
  },
  {
   "cell_type": "markdown",
   "metadata": {},
   "source": [
    "#### Вывод:  \n",
    "Нулевая гипотеза имеет место быть, то есть \"средняя выручка пользователей из Москвы от выручки пользователей из других регионов ***не отличаются***, то есть одинаковы!\"\n"
   ]
  },
  {
   "cell_type": "markdown",
   "metadata": {},
   "source": [
    "<a id=\"5\"></a>\n",
    "## Шаг 5. Общий вывод"
   ]
  },
  {
   "cell_type": "markdown",
   "metadata": {},
   "source": [
    " Что было сделано:  \n",
    "        Мы открыли все необходимые файлы, исследовали их, обнаружили пропуски и неверные типы данных.  \n",
    "        Подготовили данные:  \n",
    "            1. привели всё к нужным типам данных, пропуски решили оставить;  \n",
    "            2. обнаружили ошибки и исправили их, а именно удалили значения с нулевым потреблением трафика и минут, \n",
    "            т.к. данные значения не будут приниматься для дальнейшего анализа;  \n",
    "            3. сделали сводные таблицы, по которым видно израсходованные кол-во минут, трафик, сообщений по месяцам;  \n",
    "            4. посчитали выручку с каждого пользователя по месяцам;  \n",
    "            5. соединили нужные таблицы.\n",
    "Проанализировали данные:  \n",
    "            1. Посчитали сколько минут разговора, сколько сообщений и какой объём интернет-трафика требуется пользователям  \n",
    "            каждого тарифа в месяц;  \n",
    "            2. Посчитали среднее количество, дисперсию и стандартное отклонение и построили гистограммы.\n",
    "        \n",
    "Какой вывод общий сделан:  \n",
    "\n",
    "70 % -это пользователи тарифа \"Смарт\", 30% -\"Ультра\".  \n",
    "    Средняя выручка от пользователя тарифа \"Ультра\" на 40% выше тарифа \"Смарт\".  \n",
    "    Большинству пользователей тарифа \"Смарт\" не хватает бесплатного кол-ва минут и трафика.  \n",
    "    Пользователи тарифа \"Ультра\" пользуются минутами экономно и вписываются в свой лимит и даже остается большой запас по всем услугам.  \n",
    "    Смс- сообщения не популярная услуга для обоих тарифов.  \n",
    "    Здесь можно посоветовать маркетологам придумать \"средний\" вариант тарифа- какой-нибудь \"Стандарт\", чтобы клиенты не платили за доп. услуги и не переплачивали.  \n",
    "    Средняя выручка пользователей из Москвы не отличается от выручки пользователей из других регионов.\n",
    "    "
   ]
  }
 ],
 "metadata": {
  "kernelspec": {
   "display_name": "Python 3",
   "language": "python",
   "name": "python3"
  },
  "language_info": {
   "codemirror_mode": {
    "name": "ipython",
    "version": 3
   },
   "file_extension": ".py",
   "mimetype": "text/x-python",
   "name": "python",
   "nbconvert_exporter": "python",
   "pygments_lexer": "ipython3",
   "version": "3.7.8"
  },
  "toc": {
   "base_numbering": 1,
   "nav_menu": {},
   "number_sections": true,
   "sideBar": false,
   "skip_h1_title": true,
   "title_cell": "Table of Contents",
   "title_sidebar": "Contents",
   "toc_cell": false,
   "toc_position": {
    "height": "550px",
    "left": "97px",
    "top": "110.052px",
    "width": "763.299px"
   },
   "toc_section_display": true,
   "toc_window_display": false
  }
 },
 "nbformat": 4,
 "nbformat_minor": 2
}
